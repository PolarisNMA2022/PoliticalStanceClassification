{
  "nbformat": 4,
  "nbformat_minor": 0,
  "metadata": {
    "colab": {
      "name": "Political stance classification using Logistic regression.ipynb",
      "provenance": [],
      "collapsed_sections": []
    },
    "kernelspec": {
      "name": "python3",
      "display_name": "Python 3"
    },
    "language_info": {
      "name": "python"
    }
  },
  "cells": [
    {
      "cell_type": "markdown",
      "source": [
        "# Political stance classification using Logistic regresion\n",
        "\n",
        "This notebook is a code for logistic regression to classify political orientation of the given text.\n",
        "\n",
        "It requires install below packages.\n"
      ],
      "metadata": {
        "id": "db9z-wopsPPy"
      }
    },
    {
      "cell_type": "code",
      "execution_count": 1,
      "metadata": {
        "id": "uSzel5NjsFqH"
      },
      "outputs": [],
      "source": [
        "!pip install sklearn --quiet\n",
        "!pip install scikit-plot --quiet"
      ]
    },
    {
      "cell_type": "code",
      "source": [
        "import numpy as np # linear algebra\n",
        "import pandas as pd # data processing, CSV file I/O (e.g. pd.read_csv)\n",
        "import pickle # To save a model as binary.\n",
        "\n",
        "# For tokenization\n",
        "from sklearn.feature_extraction.text import CountVectorizer\n",
        "from sklearn.feature_extraction import text, _stop_words\n",
        "\n",
        "# For logistic regression\n",
        "from sklearn.linear_model import LogisticRegression\n",
        "\n",
        "# Classification Report\n",
        "from sklearn.metrics import classification_report\n",
        "\n",
        "# To show confusion matix\n",
        "from sklearn.metrics import confusion_matrix\n",
        "import scikitplot as skplt\n",
        "import matplotlib.pyplot as plt"
      ],
      "metadata": {
        "id": "2uYLOBE6sdWK"
      },
      "execution_count": 2,
      "outputs": []
    },
    {
      "cell_type": "markdown",
      "source": [
        "Before executing this notebook, please modify below paths for your own setup."
      ],
      "metadata": {
        "id": "Zw0uwQ6iFJbp"
      }
    },
    {
      "cell_type": "code",
      "source": [
        "path_for_opening_data = '/content/drive/MyDrive/Data_NMA_Polaris/Polaris_Data/'\n",
        "path_for_saving_model = './'"
      ],
      "metadata": {
        "id": "-nMZ3VGJ226F"
      },
      "execution_count": 3,
      "outputs": []
    },
    {
      "cell_type": "markdown",
      "source": [
        "Now, load the data. You can get the original data below via [this link](https://drive.google.com/drive/folders/1HVmXj-dzE0WfLxuOiT4dCcuKpd7ujOOo?usp=sharing). Please put these csv files on your '''path_for_opening_data''' folder."
      ],
      "metadata": {
        "id": "ydPCeGzAFUYu"
      }
    },
    {
      "cell_type": "code",
      "source": [
        "# Load Data set.\n",
        "df_train = pd.read_csv(path_for_opening_data+\"BIGNEWS_cleaned_train_204000.csv\",index_col=0)\n",
        "df_test = pd.read_csv(path_for_opening_data+\"BIGNEWS_cleaned_test_25500.csv\",index_col=0)\n",
        "df_val = pd.read_csv(path_for_opening_data+\"BIGNEWS_cleaned_val_25500.csv\",index_col=0)\n"
      ],
      "metadata": {
        "id": "NI6GvmMKtsIM"
      },
      "execution_count": 4,
      "outputs": []
    },
    {
      "cell_type": "markdown",
      "source": [
        "We label relative stance of the data as 0,1, and 2 for the left, center and right. "
      ],
      "metadata": {
        "id": "9mFDWVCBFuXW"
      }
    },
    {
      "cell_type": "code",
      "source": [
        "# Hot encoding\n",
        "\n",
        "df_train.relative_stance = df_train.relative_stance.replace({'left': 0, 'center': 1, 'right': 2})\n",
        "df_test.relative_stance = df_test.relative_stance.replace({'left': 0, 'center': 1, 'right': 2})\n",
        "df_val.relative_stance = df_val.relative_stance.replace({'left': 0, 'center': 1, 'right': 2})"
      ],
      "metadata": {
        "id": "asJGgz7iF2HF"
      },
      "execution_count": null,
      "outputs": []
    },
    {
      "cell_type": "markdown",
      "source": [
        "Now we also add some stop words. Stop words means that the words which are replaced with \"unknown word\" in the process of tokenization. We set URL addresses and media outlet's names as stop words."
      ],
      "metadata": {
        "id": "n0cFxzrAF2hA"
      }
    },
    {
      "cell_type": "code",
      "source": [
        "\n",
        "# Stop words\n",
        "additional_politics_english_stop = ['www', 'things', 'does', 'x200b', 'amp', 'want', 'watch',\n",
        "                           'just', 'like', 'https', 'com', 'republican', 'republicans',\n",
        "                           'libertarians', 'democrats', 'democrat', 'people', 'libertarian',\n",
        "                           'says', 'say', 'said', 'did', 'this', 'conservative', 'conservatives', 'huffpost', 'washingtontimes', 'cnnopinion', 'washpost', 'hillicon', 'foxnews', 'cnn', 'washington', 'foxnews', 'fox', 'breitbart', 'thehill', 'ap', 'washington post', 'new york times', 'huffington post', 'huffington', 'cnn', 'the hill', 'usatoday', 'associated press']\n",
        "\n",
        "additional_english_stop = ['www', 'things', 'does', 'x200b', 'amp',\n",
        "                           'just', 'like', 'https', 'com', 'watch', 'want',\n",
        "                           'says', 'say', 'said', 'did', 'this']\n",
        "\n",
        "new_stop_list = _stop_words.ENGLISH_STOP_WORDS.union(additional_english_stop)\n",
        "new_politics_english_stop_list = _stop_words.ENGLISH_STOP_WORDS.union(additional_politics_english_stop)\n",
        "new_politics_english_stop_list = new_politics_english_stop_list.union(df_train.source.unique())"
      ],
      "metadata": {
        "id": "m5L6fUYEsu-F"
      },
      "execution_count": 18,
      "outputs": []
    },
    {
      "cell_type": "markdown",
      "source": [
        "Now we generate training data and test data for texts and relative stances."
      ],
      "metadata": {
        "id": "6tlemnR5GZeD"
      }
    },
    {
      "cell_type": "code",
      "source": [
        "x_train_text = df_train['text'].values\n",
        "y_train = df_train.relative_stance.values\n",
        "\n",
        "x_test_text = df_test['text'].values\n",
        "y_test = df_test.relative_stance.values"
      ],
      "metadata": {
        "id": "t6mG4QvUuIHx"
      },
      "execution_count": 6,
      "outputs": []
    },
    {
      "cell_type": "markdown",
      "source": [
        "Using [CountVectorizer](https://scikit-learn.org/stable/modules/generated/sklearn.feature_extraction.text.CountVectorizer.html) function, we tokenize those train and test sets with our predefined stop words."
      ],
      "metadata": {
        "id": "xmjC0vC9GlhO"
      }
    },
    {
      "cell_type": "code",
      "source": [
        "vect=CountVectorizer(binary=True,stop_words=new_politics_english_stop_list)\n",
        "x_train_cv = vect.fit_transform(x_train_text)\n",
        "x_test_cv = vect.transform(x_test_text)\n"
      ],
      "metadata": {
        "colab": {
          "base_uri": "https://localhost:8080/"
        },
        "id": "gWrsfahXuhDr",
        "outputId": "1bf8af75-d030-4c5e-be86-4df108b68f63"
      },
      "execution_count": 7,
      "outputs": [
        {
          "output_type": "stream",
          "name": "stderr",
          "text": [
            "/usr/local/lib/python3.7/dist-packages/sklearn/feature_extraction/text.py:401: UserWarning: Your stop_words may be inconsistent with your preprocessing. Tokenizing the stop words generated tokens ['associated', 'new', 'post', 'press', 'times', 'york'] not in stop_words.\n",
            "  % sorted(inconsistent)\n"
          ]
        }
      ]
    },
    {
      "cell_type": "markdown",
      "source": [
        "Now, it's time to train our Logistic regression model! \n",
        "\n",
        "**Warning** It takes an hour for the original data. "
      ],
      "metadata": {
        "id": "vftMFJ7bG3L4"
      }
    },
    {
      "cell_type": "code",
      "source": [
        "# implementing for multinomial logistic (ignoring order)\n",
        "model = LogisticRegression(max_iter=100, multi_class='multinomial', solver='newton-cg')\n",
        "clf = model.fit(x_train_cv,y_train)"
      ],
      "metadata": {
        "id": "wVvNOokHunjf"
      },
      "execution_count": 8,
      "outputs": []
    },
    {
      "cell_type": "markdown",
      "source": [
        "You can save your model using [pickle](https://docs.python.org/3/library/pickle.html) for future use."
      ],
      "metadata": {
        "id": "Etkuks7HHHg5"
      }
    },
    {
      "cell_type": "code",
      "source": [
        "# Save the model\n",
        "with open('/content/drive/MyDrive/Data_NMA_Polaris/model_logistic_regression.pkl', 'rb') as file:\n",
        "  clf =pickle.load(file)"
      ],
      "metadata": {
        "id": "Du1QPSCE4Rdb"
      },
      "execution_count": 9,
      "outputs": []
    },
    {
      "cell_type": "markdown",
      "source": [
        "Now we wants to what kind of words have high coefficients related to each class. "
      ],
      "metadata": {
        "id": "_z5Pyn02HToP"
      }
    },
    {
      "cell_type": "code",
      "source": [
        "# initialize data of lists.\n",
        "\n",
        "wordsarr=np.array(vect.get_feature_names_out())\n",
        "coefs=np.array(clf.coef_)\n",
        "data = {'words': wordsarr, 'left_p':coefs[0,:], 'center_p':coefs[1,:], 'right_p':coefs[2,:]}\n",
        "coefdf = pd.DataFrame(data)"
      ],
      "metadata": {
        "id": "4Etdlkhjur2P"
      },
      "execution_count": 10,
      "outputs": []
    },
    {
      "cell_type": "markdown",
      "source": [
        "This is the list of 15 words whose occurence in the logistic regression are top in 'Left' articles."
      ],
      "metadata": {
        "id": "n-hVeieSHhEm"
      }
    },
    {
      "cell_type": "code",
      "source": [
        "coefdf=coefdf.sort_values(by=['left_p'], ascending = False)\n",
        "short=coefdf.head(15)\n",
        "plt.barh(short.words.values,short.left_p.values)\n",
        "plt.title(\"Top 15 Words in 'Left' Articles\")\n",
        "plt.xlabel(\"Estimates\")\n",
        "plt.show()"
      ],
      "metadata": {
        "colab": {
          "base_uri": "https://localhost:8080/",
          "height": 295
        },
        "id": "tU1xg5hRuuKT",
        "outputId": "ddb9def8-bfa9-45f8-ad3e-8c2cb20c3052"
      },
      "execution_count": 19,
      "outputs": [
        {
          "output_type": "display_data",
          "data": {
            "text/plain": [
              "<Figure size 432x288 with 1 Axes>"
            ],
            "image/png": "[encoded data removed]"
          },
          "metadata": {
            "needs_background": "light"
          }
        }
      ]
    },
    {
      "cell_type": "markdown",
      "source": [
        "This is the list of 15 words whose occurence in the logistic regression are top in 'Center' articles."
      ],
      "metadata": {
        "id": "y6Mp-ytdH32p"
      }
    },
    {
      "cell_type": "code",
      "source": [
        "coefdf=coefdf.sort_values(by=['center_p'], ascending = False)\n",
        "short=coefdf.head(15)\n",
        "plt.barh(short.words.values,short.center_p.values)\n",
        "plt.title(\"Top 15 Words in 'Center' Articles\")\n",
        "plt.xlabel(\"Estimates\")\n",
        "plt.show()"
      ],
      "metadata": {
        "colab": {
          "base_uri": "https://localhost:8080/",
          "height": 295
        },
        "id": "wXA7gc0_uwo0",
        "outputId": "a21f4052-6302-4177-a875-5751c228aaae"
      },
      "execution_count": 21,
      "outputs": [
        {
          "output_type": "display_data",
          "data": {
            "text/plain": [
              "<Figure size 432x288 with 1 Axes>"
            ],
            "image/png": "[encoded data removed]"
          },
          "metadata": {
            "needs_background": "light"
          }
        }
      ]
    },
    {
      "cell_type": "markdown",
      "source": [
        "This is the list of 15 words whose occurence in the logistic regression are top in 'Right' articles."
      ],
      "metadata": {
        "id": "VLsm-gzCH76x"
      }
    },
    {
      "cell_type": "code",
      "source": [
        "coefdf=coefdf.sort_values(by=['right_p'], ascending = False)\n",
        "short=coefdf.head(15)\n",
        "plt.barh(short.words.values,short.right_p.values)\n",
        "plt.title(\"Top 15 Words in 'Right' Articles\")\n",
        "plt.xlabel(\"Estimates\")\n",
        "plt.show()"
      ],
      "metadata": {
        "colab": {
          "base_uri": "https://localhost:8080/",
          "height": 295
        },
        "id": "_AKIPLV2uy-1",
        "outputId": "5fb172dd-6a6d-472a-9048-c5f40d60c142"
      },
      "execution_count": 22,
      "outputs": [
        {
          "output_type": "display_data",
          "data": {
            "text/plain": [
              "<Figure size 432x288 with 1 Axes>"
            ],
            "image/png": "[encoded data removed]"
          },
          "metadata": {
            "needs_background": "light"
          }
        }
      ]
    },
    {
      "cell_type": "markdown",
      "source": [
        "Also, we can get a classification report on our test set. In average, we got 67% of the test accuracy."
      ],
      "metadata": {
        "id": "RKoOIrnUIDe1"
      }
    },
    {
      "cell_type": "code",
      "source": [
        "y_pred = clf.predict(x_test_cv)\n",
        "print(classification_report(y_test, y_pred))"
      ],
      "metadata": {
        "colab": {
          "base_uri": "https://localhost:8080/"
        },
        "id": "XzlHJu70u1v4",
        "outputId": "d47ebba2-722a-4558-f87e-24ce31db2cdb"
      },
      "execution_count": 23,
      "outputs": [
        {
          "output_type": "stream",
          "name": "stdout",
          "text": [
            "              precision    recall  f1-score   support\n",
            "\n",
            "           0       0.70      0.69      0.69      8393\n",
            "           1       0.66      0.67      0.66      8597\n",
            "           2       0.67      0.66      0.66      8510\n",
            "\n",
            "    accuracy                           0.67     25500\n",
            "   macro avg       0.67      0.67      0.67     25500\n",
            "weighted avg       0.67      0.67      0.67     25500\n",
            "\n"
          ]
        }
      ]
    },
    {
      "cell_type": "markdown",
      "source": [
        "Lastly, the confusion matrix can be shown below."
      ],
      "metadata": {
        "id": "pNjrcv3PILLZ"
      }
    },
    {
      "cell_type": "code",
      "source": [
        "target_classes = [\"left\", \"center\", \"right\"]\n",
        "skplt.metrics.plot_confusion_matrix([target_classes[i] for i in y_test], [target_classes[i] for i in y_pred],\n",
        "                                    normalize=True,\n",
        "                                    title=\"Confusion Matrix\",\n",
        "                                    cmap=\"Purples\",\n",
        "                                    hide_zeros=True,\n",
        "                                    figsize=(5,5)\n",
        "                                    );\n",
        "plt.xticks(rotation=90);"
      ],
      "metadata": {
        "colab": {
          "base_uri": "https://localhost:8080/",
          "height": 332
        },
        "id": "bs6VhTFEu6jF",
        "outputId": "e77630a9-3bc6-4b5b-d688-833c0e7f0fa7"
      },
      "execution_count": 24,
      "outputs": [
        {
          "output_type": "display_data",
          "data": {
            "text/plain": [
              "<Figure size 360x360 with 2 Axes>"
            ],
            "image/png": "[encoded data removed]"
          },
          "metadata": {
            "needs_background": "light"
          }
        }
      ]
    }
  ]
}