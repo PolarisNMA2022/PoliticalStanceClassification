{
  "nbformat": 4,
  "nbformat_minor": 0,
  "metadata": {
    "colab": {
      "name": "Political stance classification using MLP with FastText.ipynb",
      "provenance": [],
      "collapsed_sections": [],
      "machine_shape": "hm"
    },
    "kernelspec": {
      "name": "python3",
      "display_name": "Python 3"
    },
    "language_info": {
      "name": "python"
    },
    "accelerator": "GPU",
    "gpuClass": "standard"
  },
  "cells": [
    {
      "cell_type": "markdown",
      "source": [
        "# Political stance classification using MLP with FastText\n",
        "\n",
        "\n",
        "This notebook is a code for training a neural network which classify political orientation of the given text.\n",
        "\n",
        "It requires 1.8.0 version of torch and nltk package as below. In the future we want to migrate it into 1.9.0"
      ],
      "metadata": {
        "id": "AzV7lL1rKTAC"
      }
    },
    {
      "cell_type": "code",
      "execution_count": 1,
      "metadata": {
        "colab": {
          "base_uri": "https://localhost:8080/"
        },
        "id": "tEczwTEoKIMF",
        "outputId": "21289b0d-849a-4f9e-f3f0-8ce932613e20"
      },
      "outputs": [
        {
          "output_type": "stream",
          "name": "stdout",
          "text": [
            "\u001b[33mWARNING: Ignoring invalid distribution -orch (/usr/local/lib/python3.7/dist-packages)\u001b[0m\n",
            "\u001b[33mWARNING: Ignoring invalid distribution -orch (/usr/local/lib/python3.7/dist-packages)\u001b[0m\n",
            "\u001b[33mWARNING: Ignoring invalid distribution -orch (/usr/local/lib/python3.7/dist-packages)\u001b[0m\n",
            "\u001b[33mWARNING: Ignoring invalid distribution -orch (/usr/local/lib/python3.7/dist-packages)\u001b[0m\n",
            "\u001b[33mWARNING: Ignoring invalid distribution -orch (/usr/local/lib/python3.7/dist-packages)\u001b[0m\n",
            "\u001b[33mWARNING: Ignoring invalid distribution -orch (/usr/local/lib/python3.7/dist-packages)\u001b[0m\n",
            "\u001b[33mWARNING: Ignoring invalid distribution -orch (/usr/local/lib/python3.7/dist-packages)\u001b[0m\n",
            "\u001b[33mWARNING: Ignoring invalid distribution -orch (/usr/local/lib/python3.7/dist-packages)\u001b[0m\n",
            "\u001b[33mWARNING: Ignoring invalid distribution -orch (/usr/local/lib/python3.7/dist-packages)\u001b[0m\n"
          ]
        }
      ],
      "source": [
        "!pip install torch==1.8.0+cu111 torchvision==0.9.0+cu111 torchaudio==0.8.0 torchtext==0.9.0 -f https://download.pytorch.org/whl/torch_stable.html --quiet\n",
        "!pip install nltk --quiet\n",
        "!pip install fasttext --quiet"
      ]
    },
    {
      "cell_type": "markdown",
      "source": [
        "Before executing this notebook, please modify below paths for your own setup."
      ],
      "metadata": {
        "id": "S8sD6g2RORNw"
      }
    },
    {
      "cell_type": "code",
      "source": [
        "path_for_saving_model = '/content/drive/MyDrive/Data_NMA_Polaris/'\n",
        "path_for_opening_data = './'"
      ],
      "metadata": {
        "id": "OrM0wkCMOQr9"
      },
      "execution_count": 2,
      "outputs": []
    },
    {
      "cell_type": "code",
      "source": [
        "import numpy as np\n",
        "import pandas as pd\n",
        "import time\n",
        "import copy\n",
        "import matplotlib.pyplot as plt\n",
        "\n",
        "# To make gpu availability and setting seed\n",
        "import random\n",
        "import torch\n",
        "\n",
        "# To make Multi-layer percepton.\n",
        "import torch.nn as nn\n",
        "from torch.nn import functional as F\n",
        "\n",
        "# To use pre-defined tokenization methods.\n",
        "#from torchtext.legacy import data\n",
        "from torchtext.legacy import data\n",
        "from nltk.tokenize import word_tokenize\n",
        "import nltk\n",
        "nltk.download('punkt')\n",
        "\n",
        "\n",
        "# TO import Fast Text\n",
        "import fasttext\n",
        "from torchtext.vocab import FastText\n",
        "\n",
        "embedding_fasttext = FastText('simple')"
      ],
      "metadata": {
        "colab": {
          "base_uri": "https://localhost:8080/"
        },
        "id": "PZCyOunQK3IU",
        "outputId": "d010e933-70b9-4be4-c2c9-58ff02a34497"
      },
      "execution_count": 3,
      "outputs": [
        {
          "output_type": "stream",
          "name": "stderr",
          "text": [
            "[nltk_data] Downloading package punkt to /root/nltk_data...\n",
            "[nltk_data]   Package punkt is already up-to-date!\n"
          ]
        }
      ]
    },
    {
      "cell_type": "markdown",
      "source": [
        "Here, we use set_device() method to determine whether GPU (cuda) is available or not. Also, by setting the seed of random function, we ensure the reproducibility. This setting of the seed will be done by set_seed() method. These methods are provided by [Neuromath Academy] (https://academy.neuromatch.io)"
      ],
      "metadata": {
        "id": "0ffNwqOwK6Ef"
      }
    },
    {
      "cell_type": "code",
      "source": [
        "def set_device():\n",
        "  \"\"\"\n",
        "  Set the device. CUDA if available, CPU otherwise\n",
        "\n",
        "  Args:\n",
        "    None\n",
        "\n",
        "  Returns:\n",
        "    Nothing\n",
        "  \"\"\"\n",
        "  device = \"cuda\" if torch.cuda.is_available() else \"cpu\"\n",
        "  if device != \"cuda\":\n",
        "    print(\"GPU is not enabled in this notebook. \\n\"\n",
        "          \"If you want to enable it, in the menu under `Runtime` -> \\n\"\n",
        "          \"`Hardware accelerator.` and select `GPU` from the dropdown menu\")\n",
        "  else:\n",
        "    print(\"GPU is enabled in this notebook. \\n\"\n",
        "          \"If you want to disable it, in the menu under `Runtime` -> \\n\"\n",
        "          \"`Hardware accelerator.` and select `None` from the dropdown menu\")\n",
        "\n",
        "  return device\n",
        "\n",
        "def set_seed(seed=None, seed_torch=True):\n",
        "  \"\"\"\n",
        "  Function that controls randomness.\n",
        "  NumPy and random modules must be imported.\n",
        "\n",
        "  Args:\n",
        "    seed : Integer\n",
        "      A non-negative integer that defines the random state. Default is `None`.\n",
        "    seed_torch : Boolean\n",
        "      If `True` sets the random seed for pytorch tensors, so pytorch module\n",
        "      must be imported. Default is `True`.\n",
        "\n",
        "  Returns:\n",
        "    Nothing.\n",
        "  \"\"\"\n",
        "  if seed is None:\n",
        "    seed = np.random.choice(2 ** 32)\n",
        "  random.seed(seed)\n",
        "  np.random.seed(seed)\n",
        "  if seed_torch:\n",
        "    torch.manual_seed(seed)\n",
        "    torch.cuda.manual_seed_all(seed)\n",
        "    torch.cuda.manual_seed(seed)\n",
        "    torch.backends.cudnn.benchmark = False\n",
        "    torch.backends.cudnn.deterministic = True\n",
        "\n",
        "  print(f'Random seed {seed} has been set.')"
      ],
      "metadata": {
        "id": "hyQgjBudKwM3"
      },
      "execution_count": 4,
      "outputs": []
    },
    {
      "cell_type": "markdown",
      "source": [
        "Then, we define our neural network model as follow. It consists of 6 layers. First layer uses vector generated by embedding texts to FastText modele. Then, we have 5 linear layers with the same size, with dropout layers. After that, we determine the final classification using softmax."
      ],
      "metadata": {
        "id": "v1KDpou8MZXO"
      }
    },
    {
      "cell_type": "code",
      "source": [
        "class NeuralNet(nn.Module):\n",
        "  \"\"\" A vanilla neural network. \"\"\"\n",
        "  def __init__(self, dropout, output_size, hidden_size, vocab_size,\n",
        "               embedding_length, word_embeddings):\n",
        "    \"\"\"\n",
        "    Constructs a vanilla Neural Network Instance.\n",
        "    Args:\n",
        "      batch_size: Integer\n",
        "        Specifies probability of dropout hyperparameter\n",
        "      output_size: Integer\n",
        "        Specifies the size of output vector\n",
        "      hidden_size: Integer\n",
        "        Specifies the size of hidden layer\n",
        "      vocab_size: Integer\n",
        "        Specifies the size of the vocabulary\n",
        "        i.e. the number of tokens in the vocabulary\n",
        "      embedding_length: Integer\n",
        "        Specifies the size of the embedding vector\n",
        "      word_embeddings\n",
        "        Specifies the weights to create embeddings from\n",
        "        voabulary.\n",
        "    Returns:\n",
        "      Nothing\n",
        "    \"\"\"\n",
        "    super(NeuralNet, self).__init__()\n",
        "\n",
        "    self.dropout = dropout\n",
        "    self.output_size = output_size\n",
        "    self.hidden_size = hidden_size\n",
        "    self.vocab_size = vocab_size\n",
        "    self.embedding_length = embedding_length\n",
        "\n",
        "    self.word_embeddings = nn.Embedding(vocab_size, embedding_length)\n",
        "    self.word_embeddings.weight = nn.Parameter(word_embeddings, requires_grad=True)\n",
        "    self.fc1 = nn.Linear(embedding_length, hidden_size)\n",
        "    self.fc2 = nn.Linear(hidden_size, hidden_size)\n",
        "    self.fc3 = nn.Linear(hidden_size, hidden_size)\n",
        "    self.fc4 = nn.Linear(hidden_size, hidden_size)\n",
        "    self.fc5 = nn.Linear(hidden_size, output_size)\n",
        "    \n",
        "    self.dropout1 = nn.Dropout(dropout)\n",
        "    self.dropout2 = nn.Dropout(dropout)\n",
        "    self.dropout3 = nn.Dropout(dropout)\n",
        "    self.dropout4 = nn.Dropout(dropout)\n",
        "    self.dropout5 = nn.Dropout(dropout)\n",
        "    self.dropout6 = nn.Dropout(dropout)\n",
        "\n",
        "  def forward(self, inputs):\n",
        "    \"\"\"\n",
        "    Compute the final labels by taking tokens as input.\n",
        "    Args:\n",
        "      inputs: Tensor\n",
        "        Tensor of tokens in the text\n",
        "    Returns:\n",
        "      out: Tensor\n",
        "        Final prediction Tensor\n",
        "    \"\"\"\n",
        "    input = self.word_embeddings(inputs)  # convert text to embeddings\n",
        "    # Average the word embedddings in a sentence\n",
        "    # Use torch.nn.functional.avg_pool2d to compute the averages\n",
        "    pooled = F.avg_pool2d(input, (input.shape[1], 1)).squeeze(1)\n",
        "    # Pass the embeddings through the neural net\n",
        "    # Use ReLU as the non-linearity\n",
        "    x = self.fc1(self.dropout1(pooled))\n",
        "    x = F.relu(x)\n",
        "    x = self.fc2(self.dropout2(x))\n",
        "    \n",
        "    x = F.relu(self.dropout3(x))\n",
        "    x = self.fc3(x)\n",
        "    x = F.relu(self.dropout4(x))\n",
        "    x = self.fc4(x)\n",
        "    x = F.relu(self.dropout5(x))\n",
        "    x = self.fc5(x)\n",
        "    \n",
        "    output = F.log_softmax(self.dropout6(x), dim=1)\n",
        "    return output"
      ],
      "metadata": {
        "id": "PCF_Fh8lMZ3j"
      },
      "execution_count": 5,
      "outputs": []
    },
    {
      "cell_type": "markdown",
      "source": [
        "This is a method for training. Here we use Cross Entropy loss function."
      ],
      "metadata": {
        "id": "XhRsA7qlNePW"
      }
    },
    {
      "cell_type": "code",
      "source": [
        "# Training\n",
        "def train(model, device, train_iter, valid_iter, epochs, learning_rate, \n",
        "          reg=None):\n",
        "  criterion = nn.CrossEntropyLoss()\n",
        "  #optimizer = torch.optim.Adam(model.parameters(), lr=learning_rate)\n",
        "  if reg is None:\n",
        "    optimizer = torch.optim.Adam(model.parameters(), lr=learning_rate)\n",
        "  else:\n",
        "    optimizer = torch.optim.Adam(model.parameters(), lr=learning_rate, weight_decay=reg)\n",
        "\n",
        "  train_loss, validation_loss = [], []\n",
        "  train_acc, validation_acc = [], []\n",
        "    \n",
        "  # early stopping\n",
        "  best_acc = 0.0\n",
        "  best_epoch = 0\n",
        "\n",
        "  # Number of successive epochs that you want to wait before stopping training process\n",
        "  patience = 10\n",
        "\n",
        "  # Keeps track of number of epochs during which the val_acc was less than best_acc\n",
        "  wait = 0\n",
        "\n",
        "  for epoch in range(epochs):\n",
        "    # train\n",
        "    model.train()\n",
        "    running_loss = 0.\n",
        "    correct, total = 0, 0\n",
        "    steps = 0\n",
        "\n",
        "    for idx, batch in enumerate(train_iter):\n",
        "      text = batch.text[0]\n",
        "      target = batch.relative_stance\n",
        "      target = torch.autograd.Variable(target).long()\n",
        "      text, target = text.to(device), target.to(device)\n",
        "\n",
        "      # add micro for coding training loop\n",
        "      optimizer.zero_grad()\n",
        "      output = model(text)\n",
        "      loss = criterion(output, target)\n",
        "      loss.backward()\n",
        "      optimizer.step()\n",
        "      steps += 1\n",
        "      running_loss += loss.item()\n",
        "\n",
        "      # get accuracy\n",
        "      _, predicted = torch.max(output, 1)\n",
        "      total += target.size(0)\n",
        "      correct += (predicted == target).sum().item()\n",
        "    train_loss.append(running_loss/len(train_iter))\n",
        "    train_acc.append(correct/total)\n",
        "\n",
        "    print(f'Epoch: {epoch + 1},  Training Loss: {running_loss/len(train_iter):.4f}, Training Accuracy: {100*correct/total: .2f}%')\n",
        "\n",
        "    # evaluate on validation data\n",
        "    model.eval()\n",
        "    running_loss = 0.\n",
        "    correct, total = 0, 0\n",
        "\n",
        "    with torch.no_grad():\n",
        "      for idx, batch in enumerate(valid_iter):\n",
        "        text = batch.text[0]\n",
        "        target = batch.relative_stance\n",
        "        target = torch.autograd.Variable(target).long()\n",
        "        text, target = text.to(device), target.to(device)\n",
        "\n",
        "        optimizer.zero_grad()\n",
        "        output = model(text)\n",
        "\n",
        "        loss = criterion(output, target)\n",
        "        running_loss += loss.item()\n",
        "\n",
        "        # get accuracy\n",
        "        _, predicted = torch.max(output, 1)\n",
        "        total += target.size(0)\n",
        "        correct += (predicted == target).sum().item()\n",
        "\n",
        "    validation_loss.append(running_loss/len(valid_iter))\n",
        "    validation_acc.append(correct/total)\n",
        "\n",
        "    print (f'Validation Loss: {running_loss/len(valid_iter):.4f}, Validation Accuracy: {100*correct/total: .2f}% \\n')\n",
        "\n",
        "    # track best accuracy\n",
        "    if ((correct/total) > best_acc):\n",
        "      best_acc = (correct/total)\n",
        "      best_epoch = epoch\n",
        "      best_model = copy.deepcopy(output)\n",
        "      wait = 0\n",
        "    else:\n",
        "      wait += 1\n",
        "\n",
        "    if (wait > patience):\n",
        "      print(f'Early stopped on epoch: {epoch + 1}')\n",
        "      break\n",
        "    \n",
        "  return train_loss, train_acc, validation_loss, validation_acc"
      ],
      "metadata": {
        "id": "V9QxIakhNeru"
      },
      "execution_count": 6,
      "outputs": []
    },
    {
      "cell_type": "markdown",
      "source": [
        "This the method for calculating test accuracy."
      ],
      "metadata": {
        "id": "vwSIbFroNnyS"
      }
    },
    {
      "cell_type": "code",
      "source": [
        "# Testing\n",
        "def test(model, device, test_iter):\n",
        "  model.eval()\n",
        "  correct = 0\n",
        "  total = 0\n",
        "  with torch.no_grad():\n",
        "    for idx, batch in enumerate(test_iter):\n",
        "      text = batch.text[0]\n",
        "      target = batch.relative_stance\n",
        "      target = torch.autograd.Variable(target).long()\n",
        "      text, target = text.to(device), target.to(device)\n",
        "\n",
        "      outputs = model(text)\n",
        "      _, predicted = torch.max(outputs, 1)\n",
        "      total += target.size(0)\n",
        "      correct += (predicted == target).sum().item()\n",
        "\n",
        "    acc = 100 * correct / total\n",
        "    return acc"
      ],
      "metadata": {
        "id": "O9qP3pttNoMc"
      },
      "execution_count": 7,
      "outputs": []
    },
    {
      "cell_type": "markdown",
      "source": [
        "We use dataset construction of Pytorch 1.8.0."
      ],
      "metadata": {
        "id": "CoU3ZlSHNyfM"
      }
    },
    {
      "cell_type": "code",
      "source": [
        "# Dataset\n",
        "def tokenize(sentences):\n",
        "  # Tokenize the sentence\n",
        "  # from nltk.tokenize library use word_tokenize\n",
        "  token = word_tokenize(sentences)\n",
        "  return token\n",
        "\n",
        "\n",
        "def load_dataset(emb_vectors, seed, sentence_length=50, batch_size=32):\n",
        "    print(\"Dataset loading...\")\n",
        "    \n",
        "    TEXT = data.Field(sequential=True, tokenize=tokenize, lower=True,\n",
        "                        include_lengths=True, batch_first=True,\n",
        "                        fix_length=sentence_length)\n",
        "\n",
        "\n",
        "    LABEL = data.LabelField(dtype=torch.float)\n",
        "\n",
        "    fields = {\n",
        "     'text': ('text', TEXT),\n",
        "     'relative_stance': ('relative_stance', LABEL),\n",
        "    }\n",
        "\n",
        "    train_data, test_data, valid_data = data.TabularDataset.splits(\n",
        "       path = path_for_opening_data,\n",
        "       train = \"BIGNEWS_cleaned_train_204000.csv\",\n",
        "       test = \"BIGNEWS_cleaned_test_25500.csv\",\n",
        "       validation = \"BIGNEWS_cleaned_val_25500.csv\",\n",
        "       format = 'csv',\n",
        "       fields = fields,\n",
        "       skip_header = False\n",
        "    )\n",
        "\n",
        "    TEXT.build_vocab(train_data, vectors=emb_vectors)\n",
        "    LABEL.build_vocab(train_data)\n",
        "\n",
        "    datasets_ = (train_data, valid_data, test_data)\n",
        "    train_iter, valid_iter, test_iter = data.BucketIterator.splits(datasets_,\n",
        "                                                                 batch_size=batch_size,\n",
        "                                                                 sort_key=lambda x: len(x.text),\n",
        "                                                                 repeat=False,\n",
        "                                                                 shuffle=True)\n",
        "    vocab_size = len(TEXT.vocab)\n",
        "    print(\"Done!\")\n",
        "    return TEXT, vocab_size, train_iter, valid_iter, test_iter"
      ],
      "metadata": {
        "id": "KbrgnMcDNy4a"
      },
      "execution_count": 8,
      "outputs": []
    },
    {
      "cell_type": "markdown",
      "source": [
        "Set up the function for ploting train-validation accuracies."
      ],
      "metadata": {
        "id": "niPBAfgMN2Ud"
      }
    },
    {
      "cell_type": "code",
      "source": [
        "# Plotting\n",
        "def plot_train_val(x, train, val, train_label, val_label, title, ylabel):\n",
        "  plt.plot(x, train, label=train_label)\n",
        "  plt.plot(x, val, label=val_label)\n",
        "  plt.legend()\n",
        "  plt.xlabel('epoch')\n",
        "  plt.ylabel(ylabel)\n",
        "  plt.title(title)\n",
        "  plt.show()"
      ],
      "metadata": {
        "id": "a6i55qCNN2qq"
      },
      "execution_count": 9,
      "outputs": []
    },
    {
      "cell_type": "markdown",
      "source": [
        "These blocks are for set up hyperparameters."
      ],
      "metadata": {
        "id": "4hT_a-IrOt7g"
      }
    },
    {
      "cell_type": "code",
      "source": [
        "DEVICE = set_device()\n",
        "SEED = 2021\n",
        "set_seed(seed=SEED)\n",
        "\n",
        "\n",
        "learning_rate = 0.0001\n",
        "reg = 0.000005\n",
        "dropout=0.60\n",
        "output_size = 3\n",
        "hidden_size = 12500\n",
        "embedding_length = 300\n",
        "epochs = 300\n"
      ],
      "metadata": {
        "id": "kNdHHnkoOuXA",
        "colab": {
          "base_uri": "https://localhost:8080/"
        },
        "outputId": "b0b0a4c7-fa3f-415b-be65-41d1fbfaf08e"
      },
      "execution_count": 10,
      "outputs": [
        {
          "output_type": "stream",
          "name": "stdout",
          "text": [
            "GPU is enabled in this notebook. \n",
            "If you want to disable it, in the menu under `Runtime` -> \n",
            "`Hardware accelerator.` and select `None` from the dropdown menu\n",
            "Random seed 2021 has been set.\n"
          ]
        }
      ]
    },
    {
      "cell_type": "markdown",
      "source": [
        "Now we load data actually and tokenize them into test, train and validation sets. It takes 1 minutes for [dummy data](https://github.com/PolarisNMA2022/PoliticalStanceClassification/tree/main/dummy_data)."
      ],
      "metadata": {
        "id": "c0BbxuKuO3B8"
      }
    },
    {
      "cell_type": "code",
      "source": [
        "embedding_fasttext = FastText('simple')\n",
        "TEXT, vocab_size, train_iter, valid_iter, test_iter = load_dataset(embedding_fasttext, seed=SEED)\n",
        "word_embeddings = TEXT.vocab.vectors"
      ],
      "metadata": {
        "id": "bYJ1IBOAO3Xn",
        "colab": {
          "base_uri": "https://localhost:8080/"
        },
        "outputId": "2c7d7cbc-8f82-4928-a724-76e9d78c4988"
      },
      "execution_count": 12,
      "outputs": [
        {
          "output_type": "stream",
          "name": "stdout",
          "text": [
            "Dataset loading...\n",
            "Done!\n"
          ]
        }
      ]
    },
    {
      "cell_type": "markdown",
      "source": [
        "Stat training! For [dummy data](https://github.com/PolarisNMA2022/PoliticalStanceClassification/tree/main/dummy_data), this take 40 minutes."
      ],
      "metadata": {
        "id": "3rckHPfbPIZ5"
      }
    },
    {
      "cell_type": "code",
      "source": [
        ""
      ],
      "metadata": {
        "id": "y8FB9ZB5_AW9"
      },
      "execution_count": null,
      "outputs": []
    },
    {
      "cell_type": "code",
      "source": [
        "\n",
        "nn_model = NeuralNet(dropout, output_size, hidden_size, vocab_size, embedding_length, word_embeddings)\n",
        "nn_model.to(DEVICE)\n",
        "nn_start_time = time.time()\n",
        "nn_train_loss, nn_train_acc, nn_validation_loss, nn_validation_acc = train(nn_model, DEVICE, train_iter, valid_iter, epochs, learning_rate, reg)\n",
        "print()\n",
        "print(f\"--- Time taken to train = {time.time() - nn_start_time} seconds ---\")\n",
        "test_accuracy = test(nn_model, DEVICE, test_iter)\n",
        "print()\n",
        "print(f'Test Accuracy: {test_accuracy}%')\n",
        "\n"
      ],
      "metadata": {
        "id": "ibBVn3hQPJcX",
        "colab": {
          "base_uri": "https://localhost:8080/",
          "height": 1000
        },
        "outputId": "d4273b56-7313-4eb0-e547-9f8643c841be"
      },
      "execution_count": 13,
      "outputs": [
        {
          "output_type": "stream",
          "name": "stdout",
          "text": [
            "Epoch: 1,  Training Loss: 1.1105, Training Accuracy:  34.49%\n",
            "Validation Loss: 1.0925, Validation Accuracy:  37.72% \n",
            "\n",
            "Epoch: 2,  Training Loss: 1.0942, Training Accuracy:  36.49%\n",
            "Validation Loss: 1.0714, Validation Accuracy:  45.30% \n",
            "\n",
            "Epoch: 3,  Training Loss: 1.0750, Training Accuracy:  39.81%\n",
            "Validation Loss: 1.0525, Validation Accuracy:  46.84% \n",
            "\n",
            "Epoch: 4,  Training Loss: 1.0564, Training Accuracy:  42.44%\n",
            "Validation Loss: 1.0345, Validation Accuracy:  50.54% \n",
            "\n",
            "Epoch: 5,  Training Loss: 1.0466, Training Accuracy:  43.35%\n",
            "Validation Loss: 1.0101, Validation Accuracy:  52.08% \n",
            "\n",
            "Epoch: 6,  Training Loss: 1.0288, Training Accuracy:  44.87%\n",
            "Validation Loss: 0.9941, Validation Accuracy:  53.85% \n",
            "\n",
            "Epoch: 7,  Training Loss: 1.0260, Training Accuracy:  45.43%\n",
            "Validation Loss: 0.9773, Validation Accuracy:  55.50% \n",
            "\n",
            "Epoch: 8,  Training Loss: 1.0136, Training Accuracy:  46.62%\n",
            "Validation Loss: 0.9693, Validation Accuracy:  56.18% \n",
            "\n",
            "Epoch: 9,  Training Loss: 1.0059, Training Accuracy:  47.14%\n",
            "Validation Loss: 0.9801, Validation Accuracy:  55.67% \n",
            "\n",
            "Epoch: 10,  Training Loss: 0.9906, Training Accuracy:  47.59%\n",
            "Validation Loss: 0.9518, Validation Accuracy:  57.72% \n",
            "\n",
            "Epoch: 11,  Training Loss: 0.9866, Training Accuracy:  48.23%\n",
            "Validation Loss: 0.9471, Validation Accuracy:  58.97% \n",
            "\n",
            "Epoch: 12,  Training Loss: 0.9781, Training Accuracy:  48.88%\n",
            "Validation Loss: 0.9611, Validation Accuracy:  58.23% \n",
            "\n",
            "Epoch: 13,  Training Loss: 0.9655, Training Accuracy:  49.62%\n",
            "Validation Loss: 0.9251, Validation Accuracy:  60.34% \n",
            "\n",
            "Epoch: 14,  Training Loss: 0.9686, Training Accuracy:  49.81%\n",
            "Validation Loss: 0.9516, Validation Accuracy:  58.29% \n",
            "\n",
            "Epoch: 15,  Training Loss: 0.9521, Training Accuracy:  50.36%\n",
            "Validation Loss: 0.9291, Validation Accuracy:  59.43% \n",
            "\n",
            "Epoch: 16,  Training Loss: 0.9456, Training Accuracy:  51.30%\n",
            "Validation Loss: 0.9197, Validation Accuracy:  60.80% \n",
            "\n",
            "Epoch: 17,  Training Loss: 0.9347, Training Accuracy:  51.09%\n",
            "Validation Loss: 0.9046, Validation Accuracy:  61.54% \n",
            "\n",
            "Epoch: 18,  Training Loss: 0.9361, Training Accuracy:  51.03%\n",
            "Validation Loss: 0.9145, Validation Accuracy:  61.20% \n",
            "\n",
            "Epoch: 19,  Training Loss: 0.9307, Training Accuracy:  52.37%\n",
            "Validation Loss: 0.9173, Validation Accuracy:  60.51% \n",
            "\n",
            "Epoch: 20,  Training Loss: 0.9227, Training Accuracy:  52.37%\n",
            "Validation Loss: 0.9051, Validation Accuracy:  61.03% \n",
            "\n",
            "Epoch: 21,  Training Loss: 0.9180, Training Accuracy:  53.30%\n",
            "Validation Loss: 0.8909, Validation Accuracy:  62.45% \n",
            "\n",
            "Epoch: 22,  Training Loss: 0.9074, Training Accuracy:  53.33%\n",
            "Validation Loss: 0.9003, Validation Accuracy:  62.56% \n",
            "\n",
            "Epoch: 23,  Training Loss: 0.9017, Training Accuracy:  53.39%\n",
            "Validation Loss: 0.9069, Validation Accuracy:  62.85% \n",
            "\n",
            "Epoch: 24,  Training Loss: 0.8986, Training Accuracy:  53.58%\n",
            "Validation Loss: 0.8993, Validation Accuracy:  61.20% \n",
            "\n",
            "Epoch: 25,  Training Loss: 0.8918, Training Accuracy:  54.32%\n",
            "Validation Loss: 0.9075, Validation Accuracy:  62.85% \n",
            "\n",
            "Epoch: 26,  Training Loss: 0.8796, Training Accuracy:  54.68%\n",
            "Validation Loss: 0.9011, Validation Accuracy:  61.48% \n",
            "\n",
            "Epoch: 27,  Training Loss: 0.8722, Training Accuracy:  54.91%\n",
            "Validation Loss: 0.8817, Validation Accuracy:  63.19% \n",
            "\n",
            "Epoch: 28,  Training Loss: 0.8690, Training Accuracy:  54.90%\n",
            "Validation Loss: 0.8914, Validation Accuracy:  62.22% \n",
            "\n",
            "Epoch: 29,  Training Loss: 0.8608, Training Accuracy:  55.58%\n",
            "Validation Loss: 0.8978, Validation Accuracy:  64.16% \n",
            "\n",
            "Epoch: 30,  Training Loss: 0.8592, Training Accuracy:  55.73%\n",
            "Validation Loss: 0.8807, Validation Accuracy:  62.34% \n",
            "\n",
            "Epoch: 31,  Training Loss: 0.8516, Training Accuracy:  56.05%\n",
            "Validation Loss: 0.8820, Validation Accuracy:  63.87% \n",
            "\n",
            "Epoch: 32,  Training Loss: 0.8392, Training Accuracy:  56.70%\n",
            "Validation Loss: 0.8968, Validation Accuracy:  63.87% \n",
            "\n",
            "Epoch: 33,  Training Loss: 0.8377, Training Accuracy:  56.96%\n",
            "Validation Loss: 0.8780, Validation Accuracy:  63.65% \n",
            "\n",
            "Epoch: 34,  Training Loss: 0.8303, Training Accuracy:  56.64%\n",
            "Validation Loss: 0.8748, Validation Accuracy:  62.85% \n",
            "\n",
            "Epoch: 35,  Training Loss: 0.8195, Training Accuracy:  57.48%\n",
            "Validation Loss: 0.8495, Validation Accuracy:  63.87% \n",
            "\n",
            "Epoch: 36,  Training Loss: 0.8198, Training Accuracy:  57.23%\n",
            "Validation Loss: 0.8739, Validation Accuracy:  63.08% \n",
            "\n",
            "Epoch: 37,  Training Loss: 0.8167, Training Accuracy:  57.65%\n",
            "Validation Loss: 0.8734, Validation Accuracy:  63.42% \n",
            "\n",
            "Epoch: 38,  Training Loss: 0.8056, Training Accuracy:  57.94%\n",
            "Validation Loss: 0.8679, Validation Accuracy:  63.59% \n",
            "\n",
            "Epoch: 39,  Training Loss: 0.7939, Training Accuracy:  58.90%\n",
            "Validation Loss: 0.8603, Validation Accuracy:  63.30% \n",
            "\n",
            "Epoch: 40,  Training Loss: 0.7942, Training Accuracy:  58.86%\n",
            "Validation Loss: 0.8554, Validation Accuracy:  63.48% \n",
            "\n",
            "Early stopped on epoch: 40\n",
            "\n",
            "--- Time taken to train = 2232.760771751404 seconds ---\n",
            "\n",
            "Test Accuracy: 63.81766381766382%\n"
          ]
        }
      ]
    },
    {
      "cell_type": "markdown",
      "source": [
        "Now you can draw a graph for accuracy changes per each epoch."
      ],
      "metadata": {
        "id": "d2VjMmUoPbda"
      }
    },
    {
      "cell_type": "code",
      "source": [
        "L = len(nn_train_acc)\n",
        "\n",
        "plot_train_val(np.arange(0, L), nn_train_acc, nn_validation_acc,\n",
        "               'training_accuracy', 'validation_accuracy',\n",
        "               'Neural Net on Political Bias BIGNEWS text classification', 'accuracy')\n",
        "plot_train_val(np.arange(0, L), nn_train_loss, nn_validation_loss,\n",
        "               'training_loss', 'validation_loss',\n",
        "               'Neural Net on Political Bias BIGNEWS text classification', 'loss')"
      ],
      "metadata": {
        "id": "7SurjANMPdpX",
        "colab": {
          "base_uri": "https://localhost:8080/",
          "height": 573
        },
        "outputId": "f38ca8d4-f3c7-44e8-ebb9-8b632c151d80"
      },
      "execution_count": 15,
      "outputs": [
        {
          "output_type": "display_data",
          "data": {
            "text/plain": [
              "<Figure size 432x288 with 1 Axes>"
            ],
            "image/png": "[encoded data removed]"
          },
          "metadata": {
            "needs_background": "light"
          }
        },
        {
          "output_type": "display_data",
          "data": {
            "text/plain": [
              "<Figure size 432x288 with 1 Axes>"
            ],
            "image/png": "[encoded data removed]"
          },
          "metadata": {
            "needs_background": "light"
          }
        }
      ]
    }
  ]
}