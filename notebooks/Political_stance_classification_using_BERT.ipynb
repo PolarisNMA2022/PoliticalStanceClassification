{
  "nbformat": 4,
  "nbformat_minor": 0,
  "metadata": {
    "colab": {
      "name": "Political stance classification using BERT.ipynb",
      "provenance": [],
      "collapsed_sections": []
    },
    "kernelspec": {
      "name": "python3",
      "display_name": "Python 3"
    },
    "language_info": {
      "name": "python"
    },
    "accelerator": "GPU",
    "gpuClass": "standard",
    "widgets": {
      "application/vnd.jupyter.widget-state+json": {
        "9bd42eec088e424fb44730a1428633ce": {
          "model_module": "@jupyter-widgets/controls",
          "model_name": "HBoxModel",
          "model_module_version": "1.5.0",
          "state": {
            "_dom_classes": [],
            "_model_module": "@jupyter-widgets/controls",
            "_model_module_version": "1.5.0",
            "_model_name": "HBoxModel",
            "_view_count": null,
            "_view_module": "@jupyter-widgets/controls",
            "_view_module_version": "1.5.0",
            "_view_name": "HBoxView",
            "box_style": "",
            "children": [
              "IPY_MODEL_acab8a222f044133b8befff2ddfa39b6",
              "IPY_MODEL_a710d43fce7242578a95b341d2de69a6",
              "IPY_MODEL_e68f11dacfe9420380bae1a9ff4650b9"
            ],
            "layout": "IPY_MODEL_48ccf7082d1d441aa98fb679bc971f90"
          }
        },
        "acab8a222f044133b8befff2ddfa39b6": {
          "model_module": "@jupyter-widgets/controls",
          "model_name": "HTMLModel",
          "model_module_version": "1.5.0",
          "state": {
            "_dom_classes": [],
            "_model_module": "@jupyter-widgets/controls",
            "_model_module_version": "1.5.0",
            "_model_name": "HTMLModel",
            "_view_count": null,
            "_view_module": "@jupyter-widgets/controls",
            "_view_module_version": "1.5.0",
            "_view_name": "HTMLView",
            "description": "",
            "description_tooltip": null,
            "layout": "IPY_MODEL_7c7fb4d78b4f4384b1dcdf5ef30be67b",
            "placeholder": "​",
            "style": "IPY_MODEL_891466861a2e4aefb050aa222f897719",
            "value": "Downloading vocab.txt: 100%"
          }
        },
        "a710d43fce7242578a95b341d2de69a6": {
          "model_module": "@jupyter-widgets/controls",
          "model_name": "FloatProgressModel",
          "model_module_version": "1.5.0",
          "state": {
            "_dom_classes": [],
            "_model_module": "@jupyter-widgets/controls",
            "_model_module_version": "1.5.0",
            "_model_name": "FloatProgressModel",
            "_view_count": null,
            "_view_module": "@jupyter-widgets/controls",
            "_view_module_version": "1.5.0",
            "_view_name": "ProgressView",
            "bar_style": "success",
            "description": "",
            "description_tooltip": null,
            "layout": "IPY_MODEL_5f80da0939794467944f50400e931434",
            "max": 213450,
            "min": 0,
            "orientation": "horizontal",
            "style": "IPY_MODEL_80c747ed49294f5185a44741e5ac2589",
            "value": 213450
          }
        },
        "e68f11dacfe9420380bae1a9ff4650b9": {
          "model_module": "@jupyter-widgets/controls",
          "model_name": "HTMLModel",
          "model_module_version": "1.5.0",
          "state": {
            "_dom_classes": [],
            "_model_module": "@jupyter-widgets/controls",
            "_model_module_version": "1.5.0",
            "_model_name": "HTMLModel",
            "_view_count": null,
            "_view_module": "@jupyter-widgets/controls",
            "_view_module_version": "1.5.0",
            "_view_name": "HTMLView",
            "description": "",
            "description_tooltip": null,
            "layout": "IPY_MODEL_74e01643624c436b907046b0bb0cdb83",
            "placeholder": "​",
            "style": "IPY_MODEL_e5bc2baa37c449c985b6597c52dd82ea",
            "value": " 208k/208k [00:00&lt;00:00, 661kB/s]"
          }
        },
        "48ccf7082d1d441aa98fb679bc971f90": {
          "model_module": "@jupyter-widgets/base",
          "model_name": "LayoutModel",
          "model_module_version": "1.2.0",
          "state": {
            "_model_module": "@jupyter-widgets/base",
            "_model_module_version": "1.2.0",
            "_model_name": "LayoutModel",
            "_view_count": null,
            "_view_module": "@jupyter-widgets/base",
            "_view_module_version": "1.2.0",
            "_view_name": "LayoutView",
            "align_content": null,
            "align_items": null,
            "align_self": null,
            "border": null,
            "bottom": null,
            "display": null,
            "flex": null,
            "flex_flow": null,
            "grid_area": null,
            "grid_auto_columns": null,
            "grid_auto_flow": null,
            "grid_auto_rows": null,
            "grid_column": null,
            "grid_gap": null,
            "grid_row": null,
            "grid_template_areas": null,
            "grid_template_columns": null,
            "grid_template_rows": null,
            "height": null,
            "justify_content": null,
            "justify_items": null,
            "left": null,
            "margin": null,
            "max_height": null,
            "max_width": null,
            "min_height": null,
            "min_width": null,
            "object_fit": null,
            "object_position": null,
            "order": null,
            "overflow": null,
            "overflow_x": null,
            "overflow_y": null,
            "padding": null,
            "right": null,
            "top": null,
            "visibility": null,
            "width": null
          }
        },
        "7c7fb4d78b4f4384b1dcdf5ef30be67b": {
          "model_module": "@jupyter-widgets/base",
          "model_name": "LayoutModel",
          "model_module_version": "1.2.0",
          "state": {
            "_model_module": "@jupyter-widgets/base",
            "_model_module_version": "1.2.0",
            "_model_name": "LayoutModel",
            "_view_count": null,
            "_view_module": "@jupyter-widgets/base",
            "_view_module_version": "1.2.0",
            "_view_name": "LayoutView",
            "align_content": null,
            "align_items": null,
            "align_self": null,
            "border": null,
            "bottom": null,
            "display": null,
            "flex": null,
            "flex_flow": null,
            "grid_area": null,
            "grid_auto_columns": null,
            "grid_auto_flow": null,
            "grid_auto_rows": null,
            "grid_column": null,
            "grid_gap": null,
            "grid_row": null,
            "grid_template_areas": null,
            "grid_template_columns": null,
            "grid_template_rows": null,
            "height": null,
            "justify_content": null,
            "justify_items": null,
            "left": null,
            "margin": null,
            "max_height": null,
            "max_width": null,
            "min_height": null,
            "min_width": null,
            "object_fit": null,
            "object_position": null,
            "order": null,
            "overflow": null,
            "overflow_x": null,
            "overflow_y": null,
            "padding": null,
            "right": null,
            "top": null,
            "visibility": null,
            "width": null
          }
        },
        "891466861a2e4aefb050aa222f897719": {
          "model_module": "@jupyter-widgets/controls",
          "model_name": "DescriptionStyleModel",
          "model_module_version": "1.5.0",
          "state": {
            "_model_module": "@jupyter-widgets/controls",
            "_model_module_version": "1.5.0",
            "_model_name": "DescriptionStyleModel",
            "_view_count": null,
            "_view_module": "@jupyter-widgets/base",
            "_view_module_version": "1.2.0",
            "_view_name": "StyleView",
            "description_width": ""
          }
        },
        "5f80da0939794467944f50400e931434": {
          "model_module": "@jupyter-widgets/base",
          "model_name": "LayoutModel",
          "model_module_version": "1.2.0",
          "state": {
            "_model_module": "@jupyter-widgets/base",
            "_model_module_version": "1.2.0",
            "_model_name": "LayoutModel",
            "_view_count": null,
            "_view_module": "@jupyter-widgets/base",
            "_view_module_version": "1.2.0",
            "_view_name": "LayoutView",
            "align_content": null,
            "align_items": null,
            "align_self": null,
            "border": null,
            "bottom": null,
            "display": null,
            "flex": null,
            "flex_flow": null,
            "grid_area": null,
            "grid_auto_columns": null,
            "grid_auto_flow": null,
            "grid_auto_rows": null,
            "grid_column": null,
            "grid_gap": null,
            "grid_row": null,
            "grid_template_areas": null,
            "grid_template_columns": null,
            "grid_template_rows": null,
            "height": null,
            "justify_content": null,
            "justify_items": null,
            "left": null,
            "margin": null,
            "max_height": null,
            "max_width": null,
            "min_height": null,
            "min_width": null,
            "object_fit": null,
            "object_position": null,
            "order": null,
            "overflow": null,
            "overflow_x": null,
            "overflow_y": null,
            "padding": null,
            "right": null,
            "top": null,
            "visibility": null,
            "width": null
          }
        },
        "80c747ed49294f5185a44741e5ac2589": {
          "model_module": "@jupyter-widgets/controls",
          "model_name": "ProgressStyleModel",
          "model_module_version": "1.5.0",
          "state": {
            "_model_module": "@jupyter-widgets/controls",
            "_model_module_version": "1.5.0",
            "_model_name": "ProgressStyleModel",
            "_view_count": null,
            "_view_module": "@jupyter-widgets/base",
            "_view_module_version": "1.2.0",
            "_view_name": "StyleView",
            "bar_color": null,
            "description_width": ""
          }
        },
        "74e01643624c436b907046b0bb0cdb83": {
          "model_module": "@jupyter-widgets/base",
          "model_name": "LayoutModel",
          "model_module_version": "1.2.0",
          "state": {
            "_model_module": "@jupyter-widgets/base",
            "_model_module_version": "1.2.0",
            "_model_name": "LayoutModel",
            "_view_count": null,
            "_view_module": "@jupyter-widgets/base",
            "_view_module_version": "1.2.0",
            "_view_name": "LayoutView",
            "align_content": null,
            "align_items": null,
            "align_self": null,
            "border": null,
            "bottom": null,
            "display": null,
            "flex": null,
            "flex_flow": null,
            "grid_area": null,
            "grid_auto_columns": null,
            "grid_auto_flow": null,
            "grid_auto_rows": null,
            "grid_column": null,
            "grid_gap": null,
            "grid_row": null,
            "grid_template_areas": null,
            "grid_template_columns": null,
            "grid_template_rows": null,
            "height": null,
            "justify_content": null,
            "justify_items": null,
            "left": null,
            "margin": null,
            "max_height": null,
            "max_width": null,
            "min_height": null,
            "min_width": null,
            "object_fit": null,
            "object_position": null,
            "order": null,
            "overflow": null,
            "overflow_x": null,
            "overflow_y": null,
            "padding": null,
            "right": null,
            "top": null,
            "visibility": null,
            "width": null
          }
        },
        "e5bc2baa37c449c985b6597c52dd82ea": {
          "model_module": "@jupyter-widgets/controls",
          "model_name": "DescriptionStyleModel",
          "model_module_version": "1.5.0",
          "state": {
            "_model_module": "@jupyter-widgets/controls",
            "_model_module_version": "1.5.0",
            "_model_name": "DescriptionStyleModel",
            "_view_count": null,
            "_view_module": "@jupyter-widgets/base",
            "_view_module_version": "1.2.0",
            "_view_name": "StyleView",
            "description_width": ""
          }
        },
        "5a8ee3acabcf416ea40d630211188d0a": {
          "model_module": "@jupyter-widgets/controls",
          "model_name": "HBoxModel",
          "model_module_version": "1.5.0",
          "state": {
            "_dom_classes": [],
            "_model_module": "@jupyter-widgets/controls",
            "_model_module_version": "1.5.0",
            "_model_name": "HBoxModel",
            "_view_count": null,
            "_view_module": "@jupyter-widgets/controls",
            "_view_module_version": "1.5.0",
            "_view_name": "HBoxView",
            "box_style": "",
            "children": [
              "IPY_MODEL_5c84acdfc4474bfda68cfbbca76ffe0b",
              "IPY_MODEL_9e0789d0ca594540afcf5fceb59dece0",
              "IPY_MODEL_75de75105be543b7abfd13bf2a008f16"
            ],
            "layout": "IPY_MODEL_0742f3518fa440c6b94fb71291967978"
          }
        },
        "5c84acdfc4474bfda68cfbbca76ffe0b": {
          "model_module": "@jupyter-widgets/controls",
          "model_name": "HTMLModel",
          "model_module_version": "1.5.0",
          "state": {
            "_dom_classes": [],
            "_model_module": "@jupyter-widgets/controls",
            "_model_module_version": "1.5.0",
            "_model_name": "HTMLModel",
            "_view_count": null,
            "_view_module": "@jupyter-widgets/controls",
            "_view_module_version": "1.5.0",
            "_view_name": "HTMLView",
            "description": "",
            "description_tooltip": null,
            "layout": "IPY_MODEL_9a5ec416b1794ff69ca5a12e8fcecf64",
            "placeholder": "​",
            "style": "IPY_MODEL_6ce01e91b9904fb3beb1b39fb057f17b",
            "value": "Downloading tokenizer_config.json: 100%"
          }
        },
        "9e0789d0ca594540afcf5fceb59dece0": {
          "model_module": "@jupyter-widgets/controls",
          "model_name": "FloatProgressModel",
          "model_module_version": "1.5.0",
          "state": {
            "_dom_classes": [],
            "_model_module": "@jupyter-widgets/controls",
            "_model_module_version": "1.5.0",
            "_model_name": "FloatProgressModel",
            "_view_count": null,
            "_view_module": "@jupyter-widgets/controls",
            "_view_module_version": "1.5.0",
            "_view_name": "ProgressView",
            "bar_style": "success",
            "description": "",
            "description_tooltip": null,
            "layout": "IPY_MODEL_4c39a25069504edd90b1a86349fee95d",
            "max": 29,
            "min": 0,
            "orientation": "horizontal",
            "style": "IPY_MODEL_f94fbcb8141f47f08e14005dbb1deb6c",
            "value": 29
          }
        },
        "75de75105be543b7abfd13bf2a008f16": {
          "model_module": "@jupyter-widgets/controls",
          "model_name": "HTMLModel",
          "model_module_version": "1.5.0",
          "state": {
            "_dom_classes": [],
            "_model_module": "@jupyter-widgets/controls",
            "_model_module_version": "1.5.0",
            "_model_name": "HTMLModel",
            "_view_count": null,
            "_view_module": "@jupyter-widgets/controls",
            "_view_module_version": "1.5.0",
            "_view_name": "HTMLView",
            "description": "",
            "description_tooltip": null,
            "layout": "IPY_MODEL_a4865b8888c04dda9738efb45ce2646c",
            "placeholder": "​",
            "style": "IPY_MODEL_e2af664aff3a42c2bde5b64dfe4bb556",
            "value": " 29.0/29.0 [00:00&lt;00:00, 892B/s]"
          }
        },
        "0742f3518fa440c6b94fb71291967978": {
          "model_module": "@jupyter-widgets/base",
          "model_name": "LayoutModel",
          "model_module_version": "1.2.0",
          "state": {
            "_model_module": "@jupyter-widgets/base",
            "_model_module_version": "1.2.0",
            "_model_name": "LayoutModel",
            "_view_count": null,
            "_view_module": "@jupyter-widgets/base",
            "_view_module_version": "1.2.0",
            "_view_name": "LayoutView",
            "align_content": null,
            "align_items": null,
            "align_self": null,
            "border": null,
            "bottom": null,
            "display": null,
            "flex": null,
            "flex_flow": null,
            "grid_area": null,
            "grid_auto_columns": null,
            "grid_auto_flow": null,
            "grid_auto_rows": null,
            "grid_column": null,
            "grid_gap": null,
            "grid_row": null,
            "grid_template_areas": null,
            "grid_template_columns": null,
            "grid_template_rows": null,
            "height": null,
            "justify_content": null,
            "justify_items": null,
            "left": null,
            "margin": null,
            "max_height": null,
            "max_width": null,
            "min_height": null,
            "min_width": null,
            "object_fit": null,
            "object_position": null,
            "order": null,
            "overflow": null,
            "overflow_x": null,
            "overflow_y": null,
            "padding": null,
            "right": null,
            "top": null,
            "visibility": null,
            "width": null
          }
        },
        "9a5ec416b1794ff69ca5a12e8fcecf64": {
          "model_module": "@jupyter-widgets/base",
          "model_name": "LayoutModel",
          "model_module_version": "1.2.0",
          "state": {
            "_model_module": "@jupyter-widgets/base",
            "_model_module_version": "1.2.0",
            "_model_name": "LayoutModel",
            "_view_count": null,
            "_view_module": "@jupyter-widgets/base",
            "_view_module_version": "1.2.0",
            "_view_name": "LayoutView",
            "align_content": null,
            "align_items": null,
            "align_self": null,
            "border": null,
            "bottom": null,
            "display": null,
            "flex": null,
            "flex_flow": null,
            "grid_area": null,
            "grid_auto_columns": null,
            "grid_auto_flow": null,
            "grid_auto_rows": null,
            "grid_column": null,
            "grid_gap": null,
            "grid_row": null,
            "grid_template_areas": null,
            "grid_template_columns": null,
            "grid_template_rows": null,
            "height": null,
            "justify_content": null,
            "justify_items": null,
            "left": null,
            "margin": null,
            "max_height": null,
            "max_width": null,
            "min_height": null,
            "min_width": null,
            "object_fit": null,
            "object_position": null,
            "order": null,
            "overflow": null,
            "overflow_x": null,
            "overflow_y": null,
            "padding": null,
            "right": null,
            "top": null,
            "visibility": null,
            "width": null
          }
        },
        "6ce01e91b9904fb3beb1b39fb057f17b": {
          "model_module": "@jupyter-widgets/controls",
          "model_name": "DescriptionStyleModel",
          "model_module_version": "1.5.0",
          "state": {
            "_model_module": "@jupyter-widgets/controls",
            "_model_module_version": "1.5.0",
            "_model_name": "DescriptionStyleModel",
            "_view_count": null,
            "_view_module": "@jupyter-widgets/base",
            "_view_module_version": "1.2.0",
            "_view_name": "StyleView",
            "description_width": ""
          }
        },
        "4c39a25069504edd90b1a86349fee95d": {
          "model_module": "@jupyter-widgets/base",
          "model_name": "LayoutModel",
          "model_module_version": "1.2.0",
          "state": {
            "_model_module": "@jupyter-widgets/base",
            "_model_module_version": "1.2.0",
            "_model_name": "LayoutModel",
            "_view_count": null,
            "_view_module": "@jupyter-widgets/base",
            "_view_module_version": "1.2.0",
            "_view_name": "LayoutView",
            "align_content": null,
            "align_items": null,
            "align_self": null,
            "border": null,
            "bottom": null,
            "display": null,
            "flex": null,
            "flex_flow": null,
            "grid_area": null,
            "grid_auto_columns": null,
            "grid_auto_flow": null,
            "grid_auto_rows": null,
            "grid_column": null,
            "grid_gap": null,
            "grid_row": null,
            "grid_template_areas": null,
            "grid_template_columns": null,
            "grid_template_rows": null,
            "height": null,
            "justify_content": null,
            "justify_items": null,
            "left": null,
            "margin": null,
            "max_height": null,
            "max_width": null,
            "min_height": null,
            "min_width": null,
            "object_fit": null,
            "object_position": null,
            "order": null,
            "overflow": null,
            "overflow_x": null,
            "overflow_y": null,
            "padding": null,
            "right": null,
            "top": null,
            "visibility": null,
            "width": null
          }
        },
        "f94fbcb8141f47f08e14005dbb1deb6c": {
          "model_module": "@jupyter-widgets/controls",
          "model_name": "ProgressStyleModel",
          "model_module_version": "1.5.0",
          "state": {
            "_model_module": "@jupyter-widgets/controls",
            "_model_module_version": "1.5.0",
            "_model_name": "ProgressStyleModel",
            "_view_count": null,
            "_view_module": "@jupyter-widgets/base",
            "_view_module_version": "1.2.0",
            "_view_name": "StyleView",
            "bar_color": null,
            "description_width": ""
          }
        },
        "a4865b8888c04dda9738efb45ce2646c": {
          "model_module": "@jupyter-widgets/base",
          "model_name": "LayoutModel",
          "model_module_version": "1.2.0",
          "state": {
            "_model_module": "@jupyter-widgets/base",
            "_model_module_version": "1.2.0",
            "_model_name": "LayoutModel",
            "_view_count": null,
            "_view_module": "@jupyter-widgets/base",
            "_view_module_version": "1.2.0",
            "_view_name": "LayoutView",
            "align_content": null,
            "align_items": null,
            "align_self": null,
            "border": null,
            "bottom": null,
            "display": null,
            "flex": null,
            "flex_flow": null,
            "grid_area": null,
            "grid_auto_columns": null,
            "grid_auto_flow": null,
            "grid_auto_rows": null,
            "grid_column": null,
            "grid_gap": null,
            "grid_row": null,
            "grid_template_areas": null,
            "grid_template_columns": null,
            "grid_template_rows": null,
            "height": null,
            "justify_content": null,
            "justify_items": null,
            "left": null,
            "margin": null,
            "max_height": null,
            "max_width": null,
            "min_height": null,
            "min_width": null,
            "object_fit": null,
            "object_position": null,
            "order": null,
            "overflow": null,
            "overflow_x": null,
            "overflow_y": null,
            "padding": null,
            "right": null,
            "top": null,
            "visibility": null,
            "width": null
          }
        },
        "e2af664aff3a42c2bde5b64dfe4bb556": {
          "model_module": "@jupyter-widgets/controls",
          "model_name": "DescriptionStyleModel",
          "model_module_version": "1.5.0",
          "state": {
            "_model_module": "@jupyter-widgets/controls",
            "_model_module_version": "1.5.0",
            "_model_name": "DescriptionStyleModel",
            "_view_count": null,
            "_view_module": "@jupyter-widgets/base",
            "_view_module_version": "1.2.0",
            "_view_name": "StyleView",
            "description_width": ""
          }
        },
        "c97a8dbde93f473db276dab6ba9ed4f2": {
          "model_module": "@jupyter-widgets/controls",
          "model_name": "HBoxModel",
          "model_module_version": "1.5.0",
          "state": {
            "_dom_classes": [],
            "_model_module": "@jupyter-widgets/controls",
            "_model_module_version": "1.5.0",
            "_model_name": "HBoxModel",
            "_view_count": null,
            "_view_module": "@jupyter-widgets/controls",
            "_view_module_version": "1.5.0",
            "_view_name": "HBoxView",
            "box_style": "",
            "children": [
              "IPY_MODEL_8ddc3d6e09b941ffb650f67db14f9cb0",
              "IPY_MODEL_d1b6e14c325447309a4d60174cf4e784",
              "IPY_MODEL_0d49704ab33745d7aef33ca16149922b"
            ],
            "layout": "IPY_MODEL_c19bbaf105ec42dc86ea1c7dd86e80b0"
          }
        },
        "8ddc3d6e09b941ffb650f67db14f9cb0": {
          "model_module": "@jupyter-widgets/controls",
          "model_name": "HTMLModel",
          "model_module_version": "1.5.0",
          "state": {
            "_dom_classes": [],
            "_model_module": "@jupyter-widgets/controls",
            "_model_module_version": "1.5.0",
            "_model_name": "HTMLModel",
            "_view_count": null,
            "_view_module": "@jupyter-widgets/controls",
            "_view_module_version": "1.5.0",
            "_view_name": "HTMLView",
            "description": "",
            "description_tooltip": null,
            "layout": "IPY_MODEL_eb44a9e67ca34c3280a03929cff59637",
            "placeholder": "​",
            "style": "IPY_MODEL_5c892a8f3013482ba5e91c1ded5f8ea0",
            "value": "Downloading config.json: 100%"
          }
        },
        "d1b6e14c325447309a4d60174cf4e784": {
          "model_module": "@jupyter-widgets/controls",
          "model_name": "FloatProgressModel",
          "model_module_version": "1.5.0",
          "state": {
            "_dom_classes": [],
            "_model_module": "@jupyter-widgets/controls",
            "_model_module_version": "1.5.0",
            "_model_name": "FloatProgressModel",
            "_view_count": null,
            "_view_module": "@jupyter-widgets/controls",
            "_view_module_version": "1.5.0",
            "_view_name": "ProgressView",
            "bar_style": "success",
            "description": "",
            "description_tooltip": null,
            "layout": "IPY_MODEL_3aec2a5d311245ec95d216b7bf17e65a",
            "max": 570,
            "min": 0,
            "orientation": "horizontal",
            "style": "IPY_MODEL_9ed3345381dd4544948c11a890cd5190",
            "value": 570
          }
        },
        "0d49704ab33745d7aef33ca16149922b": {
          "model_module": "@jupyter-widgets/controls",
          "model_name": "HTMLModel",
          "model_module_version": "1.5.0",
          "state": {
            "_dom_classes": [],
            "_model_module": "@jupyter-widgets/controls",
            "_model_module_version": "1.5.0",
            "_model_name": "HTMLModel",
            "_view_count": null,
            "_view_module": "@jupyter-widgets/controls",
            "_view_module_version": "1.5.0",
            "_view_name": "HTMLView",
            "description": "",
            "description_tooltip": null,
            "layout": "IPY_MODEL_b52dc83fb6904db98fdabae076d213c8",
            "placeholder": "​",
            "style": "IPY_MODEL_73403e6913704fffb77ed4b89d97f806",
            "value": " 570/570 [00:00&lt;00:00, 18.2kB/s]"
          }
        },
        "c19bbaf105ec42dc86ea1c7dd86e80b0": {
          "model_module": "@jupyter-widgets/base",
          "model_name": "LayoutModel",
          "model_module_version": "1.2.0",
          "state": {
            "_model_module": "@jupyter-widgets/base",
            "_model_module_version": "1.2.0",
            "_model_name": "LayoutModel",
            "_view_count": null,
            "_view_module": "@jupyter-widgets/base",
            "_view_module_version": "1.2.0",
            "_view_name": "LayoutView",
            "align_content": null,
            "align_items": null,
            "align_self": null,
            "border": null,
            "bottom": null,
            "display": null,
            "flex": null,
            "flex_flow": null,
            "grid_area": null,
            "grid_auto_columns": null,
            "grid_auto_flow": null,
            "grid_auto_rows": null,
            "grid_column": null,
            "grid_gap": null,
            "grid_row": null,
            "grid_template_areas": null,
            "grid_template_columns": null,
            "grid_template_rows": null,
            "height": null,
            "justify_content": null,
            "justify_items": null,
            "left": null,
            "margin": null,
            "max_height": null,
            "max_width": null,
            "min_height": null,
            "min_width": null,
            "object_fit": null,
            "object_position": null,
            "order": null,
            "overflow": null,
            "overflow_x": null,
            "overflow_y": null,
            "padding": null,
            "right": null,
            "top": null,
            "visibility": null,
            "width": null
          }
        },
        "eb44a9e67ca34c3280a03929cff59637": {
          "model_module": "@jupyter-widgets/base",
          "model_name": "LayoutModel",
          "model_module_version": "1.2.0",
          "state": {
            "_model_module": "@jupyter-widgets/base",
            "_model_module_version": "1.2.0",
            "_model_name": "LayoutModel",
            "_view_count": null,
            "_view_module": "@jupyter-widgets/base",
            "_view_module_version": "1.2.0",
            "_view_name": "LayoutView",
            "align_content": null,
            "align_items": null,
            "align_self": null,
            "border": null,
            "bottom": null,
            "display": null,
            "flex": null,
            "flex_flow": null,
            "grid_area": null,
            "grid_auto_columns": null,
            "grid_auto_flow": null,
            "grid_auto_rows": null,
            "grid_column": null,
            "grid_gap": null,
            "grid_row": null,
            "grid_template_areas": null,
            "grid_template_columns": null,
            "grid_template_rows": null,
            "height": null,
            "justify_content": null,
            "justify_items": null,
            "left": null,
            "margin": null,
            "max_height": null,
            "max_width": null,
            "min_height": null,
            "min_width": null,
            "object_fit": null,
            "object_position": null,
            "order": null,
            "overflow": null,
            "overflow_x": null,
            "overflow_y": null,
            "padding": null,
            "right": null,
            "top": null,
            "visibility": null,
            "width": null
          }
        },
        "5c892a8f3013482ba5e91c1ded5f8ea0": {
          "model_module": "@jupyter-widgets/controls",
          "model_name": "DescriptionStyleModel",
          "model_module_version": "1.5.0",
          "state": {
            "_model_module": "@jupyter-widgets/controls",
            "_model_module_version": "1.5.0",
            "_model_name": "DescriptionStyleModel",
            "_view_count": null,
            "_view_module": "@jupyter-widgets/base",
            "_view_module_version": "1.2.0",
            "_view_name": "StyleView",
            "description_width": ""
          }
        },
        "3aec2a5d311245ec95d216b7bf17e65a": {
          "model_module": "@jupyter-widgets/base",
          "model_name": "LayoutModel",
          "model_module_version": "1.2.0",
          "state": {
            "_model_module": "@jupyter-widgets/base",
            "_model_module_version": "1.2.0",
            "_model_name": "LayoutModel",
            "_view_count": null,
            "_view_module": "@jupyter-widgets/base",
            "_view_module_version": "1.2.0",
            "_view_name": "LayoutView",
            "align_content": null,
            "align_items": null,
            "align_self": null,
            "border": null,
            "bottom": null,
            "display": null,
            "flex": null,
            "flex_flow": null,
            "grid_area": null,
            "grid_auto_columns": null,
            "grid_auto_flow": null,
            "grid_auto_rows": null,
            "grid_column": null,
            "grid_gap": null,
            "grid_row": null,
            "grid_template_areas": null,
            "grid_template_columns": null,
            "grid_template_rows": null,
            "height": null,
            "justify_content": null,
            "justify_items": null,
            "left": null,
            "margin": null,
            "max_height": null,
            "max_width": null,
            "min_height": null,
            "min_width": null,
            "object_fit": null,
            "object_position": null,
            "order": null,
            "overflow": null,
            "overflow_x": null,
            "overflow_y": null,
            "padding": null,
            "right": null,
            "top": null,
            "visibility": null,
            "width": null
          }
        },
        "9ed3345381dd4544948c11a890cd5190": {
          "model_module": "@jupyter-widgets/controls",
          "model_name": "ProgressStyleModel",
          "model_module_version": "1.5.0",
          "state": {
            "_model_module": "@jupyter-widgets/controls",
            "_model_module_version": "1.5.0",
            "_model_name": "ProgressStyleModel",
            "_view_count": null,
            "_view_module": "@jupyter-widgets/base",
            "_view_module_version": "1.2.0",
            "_view_name": "StyleView",
            "bar_color": null,
            "description_width": ""
          }
        },
        "b52dc83fb6904db98fdabae076d213c8": {
          "model_module": "@jupyter-widgets/base",
          "model_name": "LayoutModel",
          "model_module_version": "1.2.0",
          "state": {
            "_model_module": "@jupyter-widgets/base",
            "_model_module_version": "1.2.0",
            "_model_name": "LayoutModel",
            "_view_count": null,
            "_view_module": "@jupyter-widgets/base",
            "_view_module_version": "1.2.0",
            "_view_name": "LayoutView",
            "align_content": null,
            "align_items": null,
            "align_self": null,
            "border": null,
            "bottom": null,
            "display": null,
            "flex": null,
            "flex_flow": null,
            "grid_area": null,
            "grid_auto_columns": null,
            "grid_auto_flow": null,
            "grid_auto_rows": null,
            "grid_column": null,
            "grid_gap": null,
            "grid_row": null,
            "grid_template_areas": null,
            "grid_template_columns": null,
            "grid_template_rows": null,
            "height": null,
            "justify_content": null,
            "justify_items": null,
            "left": null,
            "margin": null,
            "max_height": null,
            "max_width": null,
            "min_height": null,
            "min_width": null,
            "object_fit": null,
            "object_position": null,
            "order": null,
            "overflow": null,
            "overflow_x": null,
            "overflow_y": null,
            "padding": null,
            "right": null,
            "top": null,
            "visibility": null,
            "width": null
          }
        },
        "73403e6913704fffb77ed4b89d97f806": {
          "model_module": "@jupyter-widgets/controls",
          "model_name": "DescriptionStyleModel",
          "model_module_version": "1.5.0",
          "state": {
            "_model_module": "@jupyter-widgets/controls",
            "_model_module_version": "1.5.0",
            "_model_name": "DescriptionStyleModel",
            "_view_count": null,
            "_view_module": "@jupyter-widgets/base",
            "_view_module_version": "1.2.0",
            "_view_name": "StyleView",
            "description_width": ""
          }
        },
        "1cf75e2dd0024301811731d7ae160906": {
          "model_module": "@jupyter-widgets/controls",
          "model_name": "HBoxModel",
          "model_module_version": "1.5.0",
          "state": {
            "_dom_classes": [],
            "_model_module": "@jupyter-widgets/controls",
            "_model_module_version": "1.5.0",
            "_model_name": "HBoxModel",
            "_view_count": null,
            "_view_module": "@jupyter-widgets/controls",
            "_view_module_version": "1.5.0",
            "_view_name": "HBoxView",
            "box_style": "",
            "children": [
              "IPY_MODEL_3b664c0f45f4499b95858719310e6f1c",
              "IPY_MODEL_7bcf286758564d2ea245db77211531f2",
              "IPY_MODEL_e908ee4923e443cf97e9e66e45d179cb"
            ],
            "layout": "IPY_MODEL_9b825af5b0b04fadb80e41fd306ce398"
          }
        },
        "3b664c0f45f4499b95858719310e6f1c": {
          "model_module": "@jupyter-widgets/controls",
          "model_name": "HTMLModel",
          "model_module_version": "1.5.0",
          "state": {
            "_dom_classes": [],
            "_model_module": "@jupyter-widgets/controls",
            "_model_module_version": "1.5.0",
            "_model_name": "HTMLModel",
            "_view_count": null,
            "_view_module": "@jupyter-widgets/controls",
            "_view_module_version": "1.5.0",
            "_view_name": "HTMLView",
            "description": "",
            "description_tooltip": null,
            "layout": "IPY_MODEL_32b3cc60c36c4a00b444b62e849d1cb4",
            "placeholder": "​",
            "style": "IPY_MODEL_565c37b951d44653bb5e929ef684a778",
            "value": "Downloading pytorch_model.bin: 100%"
          }
        },
        "7bcf286758564d2ea245db77211531f2": {
          "model_module": "@jupyter-widgets/controls",
          "model_name": "FloatProgressModel",
          "model_module_version": "1.5.0",
          "state": {
            "_dom_classes": [],
            "_model_module": "@jupyter-widgets/controls",
            "_model_module_version": "1.5.0",
            "_model_name": "FloatProgressModel",
            "_view_count": null,
            "_view_module": "@jupyter-widgets/controls",
            "_view_module_version": "1.5.0",
            "_view_name": "ProgressView",
            "bar_style": "success",
            "description": "",
            "description_tooltip": null,
            "layout": "IPY_MODEL_37e2295097374cecbc647816e9deb86d",
            "max": 435779157,
            "min": 0,
            "orientation": "horizontal",
            "style": "IPY_MODEL_699b9196ee734876a92a409ad27c8c0a",
            "value": 435779157
          }
        },
        "e908ee4923e443cf97e9e66e45d179cb": {
          "model_module": "@jupyter-widgets/controls",
          "model_name": "HTMLModel",
          "model_module_version": "1.5.0",
          "state": {
            "_dom_classes": [],
            "_model_module": "@jupyter-widgets/controls",
            "_model_module_version": "1.5.0",
            "_model_name": "HTMLModel",
            "_view_count": null,
            "_view_module": "@jupyter-widgets/controls",
            "_view_module_version": "1.5.0",
            "_view_name": "HTMLView",
            "description": "",
            "description_tooltip": null,
            "layout": "IPY_MODEL_63b9a8696b264d63b3591f9043a3725a",
            "placeholder": "​",
            "style": "IPY_MODEL_9ab64c6e82d74e249253b2a57e38106f",
            "value": " 416M/416M [00:07&lt;00:00, 58.8MB/s]"
          }
        },
        "9b825af5b0b04fadb80e41fd306ce398": {
          "model_module": "@jupyter-widgets/base",
          "model_name": "LayoutModel",
          "model_module_version": "1.2.0",
          "state": {
            "_model_module": "@jupyter-widgets/base",
            "_model_module_version": "1.2.0",
            "_model_name": "LayoutModel",
            "_view_count": null,
            "_view_module": "@jupyter-widgets/base",
            "_view_module_version": "1.2.0",
            "_view_name": "LayoutView",
            "align_content": null,
            "align_items": null,
            "align_self": null,
            "border": null,
            "bottom": null,
            "display": null,
            "flex": null,
            "flex_flow": null,
            "grid_area": null,
            "grid_auto_columns": null,
            "grid_auto_flow": null,
            "grid_auto_rows": null,
            "grid_column": null,
            "grid_gap": null,
            "grid_row": null,
            "grid_template_areas": null,
            "grid_template_columns": null,
            "grid_template_rows": null,
            "height": null,
            "justify_content": null,
            "justify_items": null,
            "left": null,
            "margin": null,
            "max_height": null,
            "max_width": null,
            "min_height": null,
            "min_width": null,
            "object_fit": null,
            "object_position": null,
            "order": null,
            "overflow": null,
            "overflow_x": null,
            "overflow_y": null,
            "padding": null,
            "right": null,
            "top": null,
            "visibility": null,
            "width": null
          }
        },
        "32b3cc60c36c4a00b444b62e849d1cb4": {
          "model_module": "@jupyter-widgets/base",
          "model_name": "LayoutModel",
          "model_module_version": "1.2.0",
          "state": {
            "_model_module": "@jupyter-widgets/base",
            "_model_module_version": "1.2.0",
            "_model_name": "LayoutModel",
            "_view_count": null,
            "_view_module": "@jupyter-widgets/base",
            "_view_module_version": "1.2.0",
            "_view_name": "LayoutView",
            "align_content": null,
            "align_items": null,
            "align_self": null,
            "border": null,
            "bottom": null,
            "display": null,
            "flex": null,
            "flex_flow": null,
            "grid_area": null,
            "grid_auto_columns": null,
            "grid_auto_flow": null,
            "grid_auto_rows": null,
            "grid_column": null,
            "grid_gap": null,
            "grid_row": null,
            "grid_template_areas": null,
            "grid_template_columns": null,
            "grid_template_rows": null,
            "height": null,
            "justify_content": null,
            "justify_items": null,
            "left": null,
            "margin": null,
            "max_height": null,
            "max_width": null,
            "min_height": null,
            "min_width": null,
            "object_fit": null,
            "object_position": null,
            "order": null,
            "overflow": null,
            "overflow_x": null,
            "overflow_y": null,
            "padding": null,
            "right": null,
            "top": null,
            "visibility": null,
            "width": null
          }
        },
        "565c37b951d44653bb5e929ef684a778": {
          "model_module": "@jupyter-widgets/controls",
          "model_name": "DescriptionStyleModel",
          "model_module_version": "1.5.0",
          "state": {
            "_model_module": "@jupyter-widgets/controls",
            "_model_module_version": "1.5.0",
            "_model_name": "DescriptionStyleModel",
            "_view_count": null,
            "_view_module": "@jupyter-widgets/base",
            "_view_module_version": "1.2.0",
            "_view_name": "StyleView",
            "description_width": ""
          }
        },
        "37e2295097374cecbc647816e9deb86d": {
          "model_module": "@jupyter-widgets/base",
          "model_name": "LayoutModel",
          "model_module_version": "1.2.0",
          "state": {
            "_model_module": "@jupyter-widgets/base",
            "_model_module_version": "1.2.0",
            "_model_name": "LayoutModel",
            "_view_count": null,
            "_view_module": "@jupyter-widgets/base",
            "_view_module_version": "1.2.0",
            "_view_name": "LayoutView",
            "align_content": null,
            "align_items": null,
            "align_self": null,
            "border": null,
            "bottom": null,
            "display": null,
            "flex": null,
            "flex_flow": null,
            "grid_area": null,
            "grid_auto_columns": null,
            "grid_auto_flow": null,
            "grid_auto_rows": null,
            "grid_column": null,
            "grid_gap": null,
            "grid_row": null,
            "grid_template_areas": null,
            "grid_template_columns": null,
            "grid_template_rows": null,
            "height": null,
            "justify_content": null,
            "justify_items": null,
            "left": null,
            "margin": null,
            "max_height": null,
            "max_width": null,
            "min_height": null,
            "min_width": null,
            "object_fit": null,
            "object_position": null,
            "order": null,
            "overflow": null,
            "overflow_x": null,
            "overflow_y": null,
            "padding": null,
            "right": null,
            "top": null,
            "visibility": null,
            "width": null
          }
        },
        "699b9196ee734876a92a409ad27c8c0a": {
          "model_module": "@jupyter-widgets/controls",
          "model_name": "ProgressStyleModel",
          "model_module_version": "1.5.0",
          "state": {
            "_model_module": "@jupyter-widgets/controls",
            "_model_module_version": "1.5.0",
            "_model_name": "ProgressStyleModel",
            "_view_count": null,
            "_view_module": "@jupyter-widgets/base",
            "_view_module_version": "1.2.0",
            "_view_name": "StyleView",
            "bar_color": null,
            "description_width": ""
          }
        },
        "63b9a8696b264d63b3591f9043a3725a": {
          "model_module": "@jupyter-widgets/base",
          "model_name": "LayoutModel",
          "model_module_version": "1.2.0",
          "state": {
            "_model_module": "@jupyter-widgets/base",
            "_model_module_version": "1.2.0",
            "_model_name": "LayoutModel",
            "_view_count": null,
            "_view_module": "@jupyter-widgets/base",
            "_view_module_version": "1.2.0",
            "_view_name": "LayoutView",
            "align_content": null,
            "align_items": null,
            "align_self": null,
            "border": null,
            "bottom": null,
            "display": null,
            "flex": null,
            "flex_flow": null,
            "grid_area": null,
            "grid_auto_columns": null,
            "grid_auto_flow": null,
            "grid_auto_rows": null,
            "grid_column": null,
            "grid_gap": null,
            "grid_row": null,
            "grid_template_areas": null,
            "grid_template_columns": null,
            "grid_template_rows": null,
            "height": null,
            "justify_content": null,
            "justify_items": null,
            "left": null,
            "margin": null,
            "max_height": null,
            "max_width": null,
            "min_height": null,
            "min_width": null,
            "object_fit": null,
            "object_position": null,
            "order": null,
            "overflow": null,
            "overflow_x": null,
            "overflow_y": null,
            "padding": null,
            "right": null,
            "top": null,
            "visibility": null,
            "width": null
          }
        },
        "9ab64c6e82d74e249253b2a57e38106f": {
          "model_module": "@jupyter-widgets/controls",
          "model_name": "DescriptionStyleModel",
          "model_module_version": "1.5.0",
          "state": {
            "_model_module": "@jupyter-widgets/controls",
            "_model_module_version": "1.5.0",
            "_model_name": "DescriptionStyleModel",
            "_view_count": null,
            "_view_module": "@jupyter-widgets/base",
            "_view_module_version": "1.2.0",
            "_view_name": "StyleView",
            "description_width": ""
          }
        }
      }
    }
  },
  "cells": [
    {
      "cell_type": "markdown",
      "source": [
        "# Political stance classification using pretrained-BERT\n",
        "\n",
        "This notebook is a code for training a neural network which classify political orientation of the given text.\n",
        "\n",
        "It requires install [pretrained transformer](https://pypi.org/project/transformers/) package.\n"
      ],
      "metadata": {
        "id": "UaaLxDW6aGfz"
      }
    },
    {
      "cell_type": "code",
      "source": [
        "!pip install transformers --quiet\n",
        "!pip install scikit-plot"
      ],
      "metadata": {
        "id": "t0z4E8YvaZpQ"
      },
      "execution_count": null,
      "outputs": []
    },
    {
      "cell_type": "code",
      "source": [
        "import numpy as np # linear algebra\n",
        "import pandas as pd # data processing, CSV file I/O (e.g. pd.read_csv)\n",
        "import pickle\n",
        "\n",
        "# For the setup model\n",
        "import torch\n",
        "from transformers import BertTokenizer\n",
        "from torch import nn\n",
        "from transformers import BertModel\n",
        "\n",
        "# For the training\n",
        "from torch.optim import Adam\n",
        "from tqdm import tqdm\n",
        "\n",
        "# For the confusion matrix\n",
        "from sklearn.metrics import confusion_matrix\n",
        "import scikitplot as skplt\n",
        "import matplotlib.pyplot as plt\n",
        "\n"
      ],
      "metadata": {
        "id": "pRy2bk6laKBj"
      },
      "execution_count": 6,
      "outputs": []
    },
    {
      "cell_type": "markdown",
      "source": [
        "Before executing this notebook, please modify below paths for your own setup."
      ],
      "metadata": {
        "id": "NKE5UWhRc6Wk"
      }
    },
    {
      "cell_type": "code",
      "source": [
        "path_for_saving_model = './sample_data/'\n",
        "path_for_opening_data = './'"
      ],
      "metadata": {
        "id": "y_k5xTLYc6EL"
      },
      "execution_count": 7,
      "outputs": []
    },
    {
      "cell_type": "markdown",
      "source": [
        "This neural network model has labels for the classifier; 0 for left, 1 for center, and 2 for right. We made a Dataset class, which is inherited from [torch.utils.data.Dataset](https://pytorch.org/docs/stable/data.html) and having new attributes called 'label' and 'texts'. Both attributes are lists, but 'label' stores the list of the political stance of articles, while 'texts' store the list of the article itself. \n"
      ],
      "metadata": {
        "id": "tnoxavTzbN9l"
      }
    },
    {
      "cell_type": "code",
      "source": [
        "tokenizer = BertTokenizer.from_pretrained('bert-base-cased')\n",
        "labels = {'left':0,\n",
        "          'center':1,\n",
        "          'right':2,\n",
        "          }\n",
        "\n",
        "class Dataset(torch.utils.data.Dataset):\n",
        "\n",
        "    def __init__(self, df):\n",
        "\n",
        "        self.labels = [labels[label] for label in df['relative_stance']]\n",
        "        self.texts = [tokenizer(text, \n",
        "                               padding='max_length', max_length = 512, truncation=True,\n",
        "                                return_tensors=\"pt\") for text in df['text']]\n",
        "\n",
        "    def classes(self):\n",
        "        return self.labels\n",
        "\n",
        "    def __len__(self):\n",
        "        return len(self.labels)\n",
        "\n",
        "    def get_batch_labels(self, idx):\n",
        "        # Fetch a batch of labels\n",
        "        return np.array(self.labels[idx])\n",
        "\n",
        "    def get_batch_texts(self, idx):\n",
        "        # Fetch a batch of inputs\n",
        "        return self.texts[idx]\n",
        "\n",
        "    def __getitem__(self, idx):\n",
        "\n",
        "        batch_texts = self.get_batch_texts(idx)\n",
        "        batch_y = self.get_batch_labels(idx)\n",
        "\n",
        "        return batch_texts, batch_y"
      ],
      "metadata": {
        "colab": {
          "base_uri": "https://localhost:8080/",
          "height": 113,
          "referenced_widgets": [
            "9bd42eec088e424fb44730a1428633ce",
            "acab8a222f044133b8befff2ddfa39b6",
            "a710d43fce7242578a95b341d2de69a6",
            "e68f11dacfe9420380bae1a9ff4650b9",
            "48ccf7082d1d441aa98fb679bc971f90",
            "7c7fb4d78b4f4384b1dcdf5ef30be67b",
            "891466861a2e4aefb050aa222f897719",
            "5f80da0939794467944f50400e931434",
            "80c747ed49294f5185a44741e5ac2589",
            "74e01643624c436b907046b0bb0cdb83",
            "e5bc2baa37c449c985b6597c52dd82ea",
            "5a8ee3acabcf416ea40d630211188d0a",
            "5c84acdfc4474bfda68cfbbca76ffe0b",
            "9e0789d0ca594540afcf5fceb59dece0",
            "75de75105be543b7abfd13bf2a008f16",
            "0742f3518fa440c6b94fb71291967978",
            "9a5ec416b1794ff69ca5a12e8fcecf64",
            "6ce01e91b9904fb3beb1b39fb057f17b",
            "4c39a25069504edd90b1a86349fee95d",
            "f94fbcb8141f47f08e14005dbb1deb6c",
            "a4865b8888c04dda9738efb45ce2646c",
            "e2af664aff3a42c2bde5b64dfe4bb556",
            "c97a8dbde93f473db276dab6ba9ed4f2",
            "8ddc3d6e09b941ffb650f67db14f9cb0",
            "d1b6e14c325447309a4d60174cf4e784",
            "0d49704ab33745d7aef33ca16149922b",
            "c19bbaf105ec42dc86ea1c7dd86e80b0",
            "eb44a9e67ca34c3280a03929cff59637",
            "5c892a8f3013482ba5e91c1ded5f8ea0",
            "3aec2a5d311245ec95d216b7bf17e65a",
            "9ed3345381dd4544948c11a890cd5190",
            "b52dc83fb6904db98fdabae076d213c8",
            "73403e6913704fffb77ed4b89d97f806"
          ]
        },
        "id": "q3bzRrrJbMRK",
        "outputId": "a16ef9ac-514b-47fb-bd7b-fcd9b26090d2"
      },
      "execution_count": 8,
      "outputs": [
        {
          "output_type": "display_data",
          "data": {
            "text/plain": [
              "Downloading vocab.txt:   0%|          | 0.00/208k [00:00<?, ?B/s]"
            ],
            "application/vnd.jupyter.widget-view+json": {
              "version_major": 2,
              "version_minor": 0,
              "model_id": "9bd42eec088e424fb44730a1428633ce"
            }
          },
          "metadata": {}
        },
        {
          "output_type": "display_data",
          "data": {
            "text/plain": [
              "Downloading tokenizer_config.json:   0%|          | 0.00/29.0 [00:00<?, ?B/s]"
            ],
            "application/vnd.jupyter.widget-view+json": {
              "version_major": 2,
              "version_minor": 0,
              "model_id": "5a8ee3acabcf416ea40d630211188d0a"
            }
          },
          "metadata": {}
        },
        {
          "output_type": "display_data",
          "data": {
            "text/plain": [
              "Downloading config.json:   0%|          | 0.00/570 [00:00<?, ?B/s]"
            ],
            "application/vnd.jupyter.widget-view+json": {
              "version_major": 2,
              "version_minor": 0,
              "model_id": "c97a8dbde93f473db276dab6ba9ed4f2"
            }
          },
          "metadata": {}
        }
      ]
    },
    {
      "cell_type": "markdown",
      "source": [
        "We construct a neural network with 4 layers as follow.\n",
        "\n",
        "\n",
        "\n",
        "```\n",
        "# (1,512) -> (BERT Layer)-> (1,768) -> (Dropout) -> (1,768) -> Linear -> (1,3) -> ReLu (1,3)\n",
        "```\n",
        "\n",
        "The classification was judged by the maximum among all 3 outputs. For example, the output (0.1,2.32,4.57) from an article is considered to be right."
      ],
      "metadata": {
        "id": "hp-ZEm5PcKHt"
      }
    },
    {
      "cell_type": "code",
      "source": [
        "class BertClassifier(nn.Module):\n",
        "\n",
        "    def __init__(self, dropout=0.5):\n",
        "\n",
        "        super(BertClassifier, self).__init__()\n",
        "\n",
        "        self.bert = BertModel.from_pretrained('bert-base-cased')\n",
        "        self.dropout = nn.Dropout(dropout)\n",
        "        self.linear = nn.Linear(768, 3)\n",
        "        self.relu = nn.ReLU()\n",
        "\n",
        "    def forward(self, input_id, mask):\n",
        "\n",
        "        _, pooled_output = self.bert(input_ids= input_id, attention_mask=mask,return_dict=False)\n",
        "        dropout_output = self.dropout(pooled_output)\n",
        "        linear_output = self.linear(dropout_output)\n",
        "        final_layer = self.relu(linear_output)\n",
        "\n",
        "        return final_layer"
      ],
      "metadata": {
        "id": "fWsnTvtBcG_q"
      },
      "execution_count": 9,
      "outputs": []
    },
    {
      "cell_type": "markdown",
      "source": [
        "We train this model using 16 batches. The loss function for this model is cross entropy, but may other loss functions could be chosen in future. Also, to avoid possible crash, we saved the model after each epoch as\n",
        "\n",
        "```\n",
        "(path_for_saving_model)/model_bert(epoch_num).pkl\n",
        "```\n",
        "using [pickle](https://docs.python.org/3/library/pickle.html).\n",
        "\n"
      ],
      "metadata": {
        "id": "oDmL89tZcgGX"
      }
    },
    {
      "cell_type": "code",
      "source": [
        "def train(model, train_data, val_data, learning_rate, epochs):\n",
        "\n",
        "    train, val = Dataset(train_data), Dataset(val_data)\n",
        "\n",
        "    train_dataloader = torch.utils.data.DataLoader(train, batch_size=16, shuffle=True)\n",
        "    val_dataloader = torch.utils.data.DataLoader(val, batch_size=16)\n",
        "\n",
        "    use_cuda = torch.cuda.is_available()\n",
        "    device = torch.device(\"cuda\" if use_cuda else \"cpu\")\n",
        "\n",
        "    criterion = nn.CrossEntropyLoss()\n",
        "    optimizer = Adam(model.parameters(), lr= learning_rate)\n",
        "\n",
        "    if use_cuda:\n",
        "\n",
        "            model = model.cuda()\n",
        "            criterion = criterion.cuda()\n",
        "\n",
        "    for epoch_num in range(epochs):\n",
        "\n",
        "            total_acc_train = 0\n",
        "            total_loss_train = 0\n",
        "\n",
        "            for train_input, train_label in tqdm(train_dataloader):\n",
        "\n",
        "                train_label = train_label.to(device)\n",
        "                mask = train_input['attention_mask'].to(device)\n",
        "                input_id = train_input['input_ids'].squeeze(1).to(device)\n",
        "\n",
        "                output = model(input_id, mask)\n",
        "                \n",
        "                batch_loss = criterion(output, train_label.long())\n",
        "                total_loss_train += batch_loss.item()\n",
        "                \n",
        "                acc = (output.argmax(dim=1) == train_label).sum().item()\n",
        "                total_acc_train += acc\n",
        "\n",
        "                model.zero_grad()\n",
        "                batch_loss.backward()\n",
        "                optimizer.step()\n",
        "            \n",
        "            total_acc_val = 0\n",
        "            total_loss_val = 0\n",
        "\n",
        "            \n",
        "\n",
        "            with torch.no_grad():\n",
        "\n",
        "                for val_input, val_label in val_dataloader:\n",
        "\n",
        "                    val_label = val_label.to(device)\n",
        "                    mask = val_input['attention_mask'].to(device)\n",
        "                    input_id = val_input['input_ids'].squeeze(1).to(device)\n",
        "\n",
        "                    output = model(input_id, mask)\n",
        "\n",
        "                    batch_loss = criterion(output, val_label.long())\n",
        "                    total_loss_val += batch_loss.item()\n",
        "                    \n",
        "                    acc = (output.argmax(dim=1) == val_label).sum().item()\n",
        "                    total_acc_val += acc\n",
        "            # Save the model after 1 epoch.\n",
        "            with open(path_for_saving_model+'model_bert'+str(epoch_num)+'.pkl', 'wb') as file:\n",
        "              pickle.dump(model, file)\n",
        "            print(\n",
        "                f'Epochs: {epoch_num + 1} | Train Loss: {total_loss_train / len(train_data): .3f} \\\n",
        "                | Train Accuracy: {total_acc_train / len(train_data): .3f} \\\n",
        "                | Val Loss: {total_loss_val / len(val_data): .3f} \\\n",
        "                | Val Accuracy: {total_acc_val / len(val_data): .3f}')\n"
      ],
      "metadata": {
        "id": "IhgEgW68ccLG"
      },
      "execution_count": 10,
      "outputs": []
    },
    {
      "cell_type": "markdown",
      "source": [
        "Now set up hyper parameters. EPOCHS determine how many trains will be done. LR determines the learning rate of the neural network model, used by the pytorch optimizer [adam](https://pytorch.org/docs/stable/optim.html)."
      ],
      "metadata": {
        "id": "jSHqxnpxdtAs"
      }
    },
    {
      "cell_type": "code",
      "source": [
        "EPOCHS = 5\n",
        "LR = 1e-6"
      ],
      "metadata": {
        "id": "zDqbGUG4dsVx"
      },
      "execution_count": 11,
      "outputs": []
    },
    {
      "cell_type": "markdown",
      "source": [
        "Now, load the data. You can get the original data below via [this link](https://drive.google.com/drive/folders/1HVmXj-dzE0WfLxuOiT4dCcuKpd7ujOOo?usp=sharing). Please put these csv files on your '''path_for_opening_data''' folder. In this notebook, the result was based on the [dummy files](https://github.com/PolarisNMA2022/PoliticalStanceClassification/tree/main/dummy_data). \n",
        "\n",
        "Dummy files consisting of 14386 articles in the traning set, 1893 articles in the validation set, and 1768 articles in the test set."
      ],
      "metadata": {
        "id": "15HFKOoTeR9a"
      }
    },
    {
      "cell_type": "code",
      "source": [
        "# Load Data set.\n",
        "df_train = pd.read_csv(path_for_opening_data+\"BIGNEWS_cleaned_train_204000.csv\",index_col=0)\n",
        "df_test = pd.read_csv(path_for_opening_data+\"BIGNEWS_cleaned_test_25500.csv\",index_col=0)\n",
        "df_val = pd.read_csv(path_for_opening_data+\"BIGNEWS_cleaned_val_25500.csv\",index_col=0)"
      ],
      "metadata": {
        "id": "fXv_GpqIeYzD"
      },
      "execution_count": 13,
      "outputs": []
    },
    {
      "cell_type": "markdown",
      "source": [
        "If you are ready, then set up the model and train it.\n",
        "\n",
        "**Warning** If you use the original data for the training with GPU (cuda), it takes 1 hour for tokenizing data from the train and validation set, and 3 hours for each epoch, with using 15GB of the RAM (in Kaggle or Colab). Even if you use dummy files, it take an hour for 5 epochs."
      ],
      "metadata": {
        "id": "soHBE5LhfGnL"
      }
    },
    {
      "cell_type": "code",
      "source": [
        "model = BertClassifier()\n",
        "train(model, df_train, df_val, LR, EPOCHS)"
      ],
      "metadata": {
        "colab": {
          "base_uri": "https://localhost:8080/",
          "height": 290,
          "referenced_widgets": [
            "1cf75e2dd0024301811731d7ae160906",
            "3b664c0f45f4499b95858719310e6f1c",
            "7bcf286758564d2ea245db77211531f2",
            "e908ee4923e443cf97e9e66e45d179cb",
            "9b825af5b0b04fadb80e41fd306ce398",
            "32b3cc60c36c4a00b444b62e849d1cb4",
            "565c37b951d44653bb5e929ef684a778",
            "37e2295097374cecbc647816e9deb86d",
            "699b9196ee734876a92a409ad27c8c0a",
            "63b9a8696b264d63b3591f9043a3725a",
            "9ab64c6e82d74e249253b2a57e38106f"
          ]
        },
        "id": "uxryVumgd4mG",
        "outputId": "8fc1936c-383f-44cf-dc80-bc6460ef6c7b"
      },
      "execution_count": 14,
      "outputs": [
        {
          "output_type": "display_data",
          "data": {
            "text/plain": [
              "Downloading pytorch_model.bin:   0%|          | 0.00/416M [00:00<?, ?B/s]"
            ],
            "application/vnd.jupyter.widget-view+json": {
              "version_major": 2,
              "version_minor": 0,
              "model_id": "1cf75e2dd0024301811731d7ae160906"
            }
          },
          "metadata": {}
        },
        {
          "output_type": "stream",
          "name": "stderr",
          "text": [
            "Some weights of the model checkpoint at bert-base-cased were not used when initializing BertModel: ['cls.predictions.transform.LayerNorm.bias', 'cls.seq_relationship.weight', 'cls.predictions.bias', 'cls.predictions.transform.dense.weight', 'cls.predictions.decoder.weight', 'cls.seq_relationship.bias', 'cls.predictions.transform.dense.bias', 'cls.predictions.transform.LayerNorm.weight']\n",
            "- This IS expected if you are initializing BertModel from the checkpoint of a model trained on another task or with another architecture (e.g. initializing a BertForSequenceClassification model from a BertForPreTraining model).\n",
            "- This IS NOT expected if you are initializing BertModel from the checkpoint of a model that you expect to be exactly identical (initializing a BertForSequenceClassification model from a BertForSequenceClassification model).\n",
            "100%|██████████| 878/878 [11:43<00:00,  1.25it/s]\n"
          ]
        },
        {
          "output_type": "stream",
          "name": "stdout",
          "text": [
            "Epochs: 1 | Train Loss:  0.069                 | Train Accuracy:  0.331                 | Val Loss:  0.069                 | Val Accuracy:  0.330\n"
          ]
        },
        {
          "output_type": "stream",
          "name": "stderr",
          "text": [
            "100%|██████████| 878/878 [11:40<00:00,  1.25it/s]\n"
          ]
        },
        {
          "output_type": "stream",
          "name": "stdout",
          "text": [
            "Epochs: 2 | Train Loss:  0.066                 | Train Accuracy:  0.423                 | Val Loss:  0.063                 | Val Accuracy:  0.500\n"
          ]
        },
        {
          "output_type": "stream",
          "name": "stderr",
          "text": [
            "100%|██████████| 878/878 [11:40<00:00,  1.25it/s]\n"
          ]
        },
        {
          "output_type": "stream",
          "name": "stdout",
          "text": [
            "Epochs: 3 | Train Loss:  0.060                 | Train Accuracy:  0.548                 | Val Loss:  0.059                 | Val Accuracy:  0.565\n"
          ]
        },
        {
          "output_type": "stream",
          "name": "stderr",
          "text": [
            "100%|██████████| 878/878 [11:39<00:00,  1.25it/s]\n"
          ]
        },
        {
          "output_type": "stream",
          "name": "stdout",
          "text": [
            "Epochs: 4 | Train Loss:  0.052                 | Train Accuracy:  0.650                 | Val Loss:  0.051                 | Val Accuracy:  0.660\n"
          ]
        },
        {
          "output_type": "stream",
          "name": "stderr",
          "text": [
            "100%|██████████| 878/878 [11:39<00:00,  1.25it/s]\n"
          ]
        },
        {
          "output_type": "stream",
          "name": "stdout",
          "text": [
            "Epochs: 5 | Train Loss:  0.045                 | Train Accuracy:  0.709                 | Val Loss:  0.047                 | Val Accuracy:  0.685\n"
          ]
        }
      ]
    },
    {
      "cell_type": "markdown",
      "source": [
        "Lastly, you can chcek the test accuracy and confusion matrix using the below code. If you use the original data with 5 epochs, then it has a result below.\n",
        "\n",
        "![Screen Shot 2022-07-28 at 3.13.16 PM.png](data:image/png;base64,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)"
      ],
      "metadata": {
        "id": "vDoS1UjmiQ9s"
      }
    },
    {
      "cell_type": "code",
      "source": [
        "get_output=[]\n",
        "get_testlabels=[]\n",
        "\n",
        "def evaluate(model, test_data):\n",
        "    test = Dataset(test_data)\n",
        "    test_dataloader = torch.utils.data.DataLoader(test, batch_size=2)\n",
        "    use_cuda = torch.cuda.is_available()\n",
        "    device = torch.device(\"cuda\" if use_cuda else \"cpu\")\n",
        "\n",
        "    if use_cuda:\n",
        "        model = model.cuda()\n",
        "\n",
        "    total_acc_test = 0\n",
        "    with torch.no_grad():\n",
        "        for test_input, test_label in test_dataloader:\n",
        "            get_testlabels.append(test_label)\n",
        "            test_label = test_label.to(device)\n",
        "            mask = test_input['attention_mask'].to(device)\n",
        "            input_id = test_input['input_ids'].squeeze(1).to(device)\n",
        "            output = model(input_id, mask)\n",
        "            acc = (output.argmax(dim=1) == test_label).sum().item()\n",
        "            get_output.append(output.argmax(dim=1))\n",
        "            total_acc_test += acc\n",
        "        print(f'Test Accuracy: {total_acc_test / len(test_data): .3f}')\n",
        "evaluate(model, df_test)\n",
        "\n",
        "model_y = [item.cpu().detach().numpy().tolist() for item in get_output]\n",
        "test_y = [item.cpu().detach().numpy().tolist() for item in get_testlabels]\n",
        "model_y = [x for xs in model_y for x in xs]\n",
        "test_y = [x for xs in test_y for x in xs]\n",
        "\n",
        "target_classes = [0, 1, 2]\n",
        "skplt.metrics.plot_confusion_matrix([target_classes[i] for i in test_y], [target_classes[i] for i in model_y],\n",
        "                                    normalize=True,\n",
        "                                    title=\"Confusion Matrix\",\n",
        "                                    cmap=\"Purples\",\n",
        "                                    hide_zeros=True,\n",
        "                                    figsize=(5,5)\n",
        "                                    );\n",
        "plt.xticks(rotation=90);"
      ],
      "metadata": {
        "colab": {
          "base_uri": "https://localhost:8080/",
          "height": 323
        },
        "id": "HGcax1Eag-xE",
        "outputId": "0a9e31d1-a050-4e15-b589-f7d6e088e414"
      },
      "execution_count": 15,
      "outputs": [
        {
          "output_type": "stream",
          "name": "stdout",
          "text": [
            "Test Accuracy:  0.679\n"
          ]
        },
        {
          "output_type": "display_data",
          "data": {
            "text/plain": [
              "<Figure size 360x360 with 2 Axes>"
            ],
            "image/png": "[encoded data removed]"
          },
          "metadata": {
            "needs_background": "light"
          }
        }
      ]
    }
  ]
}