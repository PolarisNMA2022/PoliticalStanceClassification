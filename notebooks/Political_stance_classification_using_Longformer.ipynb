{
  "nbformat": 4,
  "nbformat_minor": 0,
  "metadata": {
    "colab": {
      "name": "Political stance classification using Longformer.ipynb",
      "provenance": [],
      "collapsed_sections": []
    },
    "kernelspec": {
      "name": "python3",
      "display_name": "Python 3"
    },
    "language_info": {
      "name": "python"
    },
    "accelerator": "GPU",
    "gpuClass": "standard"
  },
  "cells": [
    {
      "cell_type": "markdown",
      "source": [
        "# Political stance classification using Longformer\n",
        "\n",
        "This notebook is a code for training a neural network which classify political orientation of the given text.\n",
        "\n",
        "It requires install [pretrained transformer](https://pypi.org/project/transformers/) package."
      ],
      "metadata": {
        "id": "EewMZwqroeqI"
      }
    },
    {
      "cell_type": "code",
      "execution_count": 1,
      "metadata": {
        "id": "KswCBHW5oX5F",
        "colab": {
          "base_uri": "https://localhost:8080/"
        },
        "outputId": "edc78705-5e2c-4ded-d5fc-a8a1a2e24b6f"
      },
      "outputs": [
        {
          "output_type": "stream",
          "name": "stdout",
          "text": [
            "Looking in indexes: https://pypi.org/simple, https://us-python.pkg.dev/colab-wheels/public/simple/\n",
            "Requirement already satisfied: scikit-plot in /usr/local/lib/python3.7/dist-packages (0.3.7)\n",
            "Requirement already satisfied: joblib>=0.10 in /usr/local/lib/python3.7/dist-packages (from scikit-plot) (1.1.0)\n",
            "Requirement already satisfied: matplotlib>=1.4.0 in /usr/local/lib/python3.7/dist-packages (from scikit-plot) (3.2.2)\n",
            "Requirement already satisfied: scikit-learn>=0.18 in /usr/local/lib/python3.7/dist-packages (from scikit-plot) (1.0.2)\n",
            "Requirement already satisfied: scipy>=0.9 in /usr/local/lib/python3.7/dist-packages (from scikit-plot) (1.7.3)\n",
            "Requirement already satisfied: pyparsing!=2.0.4,!=2.1.2,!=2.1.6,>=2.0.1 in /usr/local/lib/python3.7/dist-packages (from matplotlib>=1.4.0->scikit-plot) (3.0.9)\n",
            "Requirement already satisfied: kiwisolver>=1.0.1 in /usr/local/lib/python3.7/dist-packages (from matplotlib>=1.4.0->scikit-plot) (1.4.4)\n",
            "Requirement already satisfied: cycler>=0.10 in /usr/local/lib/python3.7/dist-packages (from matplotlib>=1.4.0->scikit-plot) (0.11.0)\n",
            "Requirement already satisfied: numpy>=1.11 in /usr/local/lib/python3.7/dist-packages (from matplotlib>=1.4.0->scikit-plot) (1.21.6)\n",
            "Requirement already satisfied: python-dateutil>=2.1 in /usr/local/lib/python3.7/dist-packages (from matplotlib>=1.4.0->scikit-plot) (2.8.2)\n",
            "Requirement already satisfied: typing-extensions in /usr/local/lib/python3.7/dist-packages (from kiwisolver>=1.0.1->matplotlib>=1.4.0->scikit-plot) (4.1.1)\n",
            "Requirement already satisfied: six>=1.5 in /usr/local/lib/python3.7/dist-packages (from python-dateutil>=2.1->matplotlib>=1.4.0->scikit-plot) (1.15.0)\n",
            "Requirement already satisfied: threadpoolctl>=2.0.0 in /usr/local/lib/python3.7/dist-packages (from scikit-learn>=0.18->scikit-plot) (3.1.0)\n"
          ]
        }
      ],
      "source": [
        "!pip install transformers --quiet\n",
        "!pip install scikit-plot --quiet"
      ]
    },
    {
      "cell_type": "code",
      "source": [
        "import numpy as np # linear algebra\n",
        "import pandas as pd # data processing, CSV file I/O (e.g. pd.read_csv)\n",
        "import pickle\n",
        "\n",
        "# For the setup model\n",
        "import torch\n",
        "from torch import nn\n",
        "from transformers import LongformerModel,LongformerTokenizer\n",
        "\n",
        "# For the training\n",
        "from torch.optim import Adam\n",
        "from tqdm import tqdm\n",
        "\n",
        "# For the confusion matrix\n",
        "from sklearn.metrics import confusion_matrix\n",
        "import scikitplot as skplt\n",
        "import matplotlib.pyplot as plt\n",
        "\n"
      ],
      "metadata": {
        "id": "E-eLNz2YonDQ"
      },
      "execution_count": 2,
      "outputs": []
    },
    {
      "cell_type": "markdown",
      "source": [
        "Before executing this notebook, please modify below paths for your own setup."
      ],
      "metadata": {
        "id": "o0HQIBl3o0zM"
      }
    },
    {
      "cell_type": "code",
      "source": [
        "path_for_saving_model = './sample_data/'\n",
        "path_for_opening_data = './'"
      ],
      "metadata": {
        "id": "kqfwzTlNo1KQ"
      },
      "execution_count": 3,
      "outputs": []
    },
    {
      "cell_type": "markdown",
      "source": [
        "This neural network model has labels for the classifier; 0 for left, 1 for center, and 2 for right. We made a Dataset class, which is inherited from [torch.utils.data.Dataset](https://pytorch.org/docs/stable/data.html) and having new attributes called 'label' and 'texts'. Both attributes are lists, but 'label' stores the list of the political stance of articles, while 'texts' store the list of the article itself. \n"
      ],
      "metadata": {
        "id": "9wx5u75Vo302"
      }
    },
    {
      "cell_type": "code",
      "source": [
        "tokenizer = LongformerTokenizer.from_pretrained('allenai/longformer-base-4096')\n",
        "labels = {'left':0,\n",
        "          'center':1,\n",
        "          'right':2}\n",
        "\n",
        "class Dataset(torch.utils.data.Dataset):\n",
        "\n",
        "    def __init__(self, df):\n",
        "\n",
        "        self.labels = [labels[label] for label in df['relative_stance']]\n",
        "        self.texts = [tokenizer(text, \n",
        "                               padding='max_length', max_length = 1000, truncation=True,\n",
        "                                return_tensors=\"pt\") for text in df['text']]\n",
        "\n",
        "    def classes(self):\n",
        "        return self.labels\n",
        "\n",
        "    def __len__(self):\n",
        "        return len(self.labels)\n",
        "\n",
        "    def get_batch_labels(self, idx):\n",
        "        # Fetch a batch of labels\n",
        "        return np.array(self.labels[idx])\n",
        "\n",
        "    def get_batch_texts(self, idx):\n",
        "        # Fetch a batch of inputs\n",
        "        return self.texts[idx]\n",
        "\n",
        "    def __getitem__(self, idx):\n",
        "\n",
        "        batch_texts = self.get_batch_texts(idx)\n",
        "        batch_y = self.get_batch_labels(idx)\n",
        "\n",
        "        return batch_texts, batch_y"
      ],
      "metadata": {
        "id": "8WSeYN6Jo5kX"
      },
      "execution_count": 4,
      "outputs": []
    },
    {
      "cell_type": "markdown",
      "source": [
        "We construct a neural network with 4 layers as follow. Indeed, Longformer can take 4,096 tokens at once. However, due to the lack of RAM, we restrict it with 1,000 tokens.\n",
        "\n",
        "\n",
        "```\n",
        "# (1,1000) -> (Longformer Layer)-> (1,768) -> (Dropout) -> (1,768) -> Linear -> (1,3) -> ReLu (1,3)\n",
        "```\n",
        "\n",
        "The classification was judged by the maximum among all 3 outputs. For example, the output (0.1,2.32,4.57) from an article is considered to be right."
      ],
      "metadata": {
        "id": "_T6n-WitpE1Y"
      }
    },
    {
      "cell_type": "code",
      "source": [
        "class LongformerClassifier(nn.Module):\n",
        "\n",
        "    def __init__(self, dropout=0.5):\n",
        "\n",
        "        super(LongformerClassifier, self).__init__()\n",
        "\n",
        "        self.bert = LongformerModel.from_pretrained('allenai/longformer-base-4096')\n",
        "        self.dropout = nn.Dropout(dropout)\n",
        "        self.linear = nn.Linear(768, 3)\n",
        "        self.relu = nn.ReLU()\n",
        "\n",
        "    def forward(self, input_id, mask):\n",
        "\n",
        "        _, pooled_output = self.bert(input_ids= input_id, attention_mask=mask,return_dict=False)\n",
        "        dropout_output = self.dropout(pooled_output)\n",
        "        linear_output = self.linear(dropout_output)\n",
        "        final_layer = self.relu(linear_output)\n",
        "\n",
        "        return final_layer"
      ],
      "metadata": {
        "id": "ibq9IyropRYU"
      },
      "execution_count": 5,
      "outputs": []
    },
    {
      "cell_type": "markdown",
      "source": [
        "We train this model using 8 batches. The loss function for this model is cross entropy, but may other loss functions could be chosen in future. Also, to avoid possible crash, we saved the model after each epoch as\n",
        "\n",
        "```\n",
        "(path_for_saving_model)/model_bert(epoch_num).pkl\n",
        "```\n",
        "using [pickle](https://docs.python.org/3/library/pickle.html).\n",
        "\n"
      ],
      "metadata": {
        "id": "Io0grCoapelL"
      }
    },
    {
      "cell_type": "code",
      "source": [
        "def train(model, train_data, val_data, learning_rate, epochs):\n",
        "\n",
        "    train, val = Dataset(train_data), Dataset(val_data)\n",
        "\n",
        "    train_dataloader = torch.utils.data.DataLoader(train, batch_size=8, shuffle=True)\n",
        "    val_dataloader = torch.utils.data.DataLoader(val, batch_size=8)\n",
        "\n",
        "    use_cuda = torch.cuda.is_available()\n",
        "    device = torch.device(\"cuda\" if use_cuda else \"cpu\")\n",
        "\n",
        "    criterion = nn.CrossEntropyLoss()\n",
        "    optimizer = Adam(model.parameters(), lr= learning_rate)\n",
        "\n",
        "    if use_cuda:\n",
        "\n",
        "            model = model.cuda()\n",
        "            criterion = criterion.cuda()\n",
        "\n",
        "    for epoch_num in range(epochs):\n",
        "\n",
        "            total_acc_train = 0\n",
        "            total_loss_train = 0\n",
        "\n",
        "            for train_input, train_label in tqdm(train_dataloader):\n",
        "\n",
        "                train_label = train_label.to(device)\n",
        "                mask = train_input['attention_mask'].to(device)\n",
        "                input_id = train_input['input_ids'].squeeze(1).to(device)\n",
        "\n",
        "                output = model(input_id, mask)\n",
        "                \n",
        "                batch_loss = criterion(output, train_label.long())\n",
        "                total_loss_train += batch_loss.item()\n",
        "                \n",
        "                acc = (output.argmax(dim=1) == train_label).sum().item()\n",
        "                total_acc_train += acc\n",
        "\n",
        "                model.zero_grad()\n",
        "                batch_loss.backward()\n",
        "                optimizer.step()\n",
        "            \n",
        "            total_acc_val = 0\n",
        "            total_loss_val = 0\n",
        "\n",
        "            with torch.no_grad():\n",
        "\n",
        "                for val_input, val_label in val_dataloader:\n",
        "\n",
        "                    val_label = val_label.to(device)\n",
        "                    mask = val_input['attention_mask'].to(device)\n",
        "                    input_id = val_input['input_ids'].squeeze(1).to(device)\n",
        "\n",
        "                    output = model(input_id, mask)\n",
        "\n",
        "                    batch_loss = criterion(output, val_label.long())\n",
        "                    total_loss_val += batch_loss.item()\n",
        "                    \n",
        "                    acc = (output.argmax(dim=1) == val_label).sum().item()\n",
        "                    total_acc_val += acc\n",
        "            # Save the model after 1 epoch.\n",
        "            with open(path_for_saving_model+'model_longformer'+str(epoch_num)+'.pkl', 'wb') as file:\n",
        "              pickle.dump(model, file)\n",
        "            print(\n",
        "                f'Epochs: {epoch_num + 1} | Train Loss: {total_loss_train / len(train_data): .3f} \\\n",
        "                | Train Accuracy: {total_acc_train / len(train_data): .3f} \\\n",
        "                | Val Loss: {total_loss_val / len(val_data): .3f} \\\n",
        "                | Val Accuracy: {total_acc_val / len(val_data): .3f}')\n",
        "            "
      ],
      "metadata": {
        "id": "W3DAizndpjNX"
      },
      "execution_count": 6,
      "outputs": []
    },
    {
      "cell_type": "markdown",
      "source": [
        "Now set up hyper parameters. EPOCHS determine how many trains will be done. LR determines the learning rate of the neural network model, used by the pytorch optimizer [adam](https://pytorch.org/docs/stable/optim.html)."
      ],
      "metadata": {
        "id": "1_pbtSZBpwK-"
      }
    },
    {
      "cell_type": "code",
      "source": [
        "EPOCHS = 2\n",
        "LR = 1e-6"
      ],
      "metadata": {
        "id": "cZJUI-SlpweE"
      },
      "execution_count": 7,
      "outputs": []
    },
    {
      "cell_type": "markdown",
      "source": [
        "Now, load the data. You can get the original data below via [this link](https://drive.google.com/drive/folders/1HVmXj-dzE0WfLxuOiT4dCcuKpd7ujOOo?usp=sharing). Please put these csv files on your '''path_for_opening_data''' folder. In this notebook, the result was based on the [dummy files](https://github.com/PolarisNMA2022/PoliticalStanceClassification/tree/main/dummy_data). \n",
        "\n",
        "Dummy files consisting of 14386 articles in the traning set, 1893 articles in the validation set, and 1768 articles in the test set."
      ],
      "metadata": {
        "id": "qxGK6kdgpy7S"
      }
    },
    {
      "cell_type": "code",
      "source": [
        "# Load Data set.\n",
        "df_train = pd.read_csv(path_for_opening_data+\"BIGNEWS_cleaned_train_204000.csv\",index_col=0)\n",
        "df_test = pd.read_csv(path_for_opening_data+\"BIGNEWS_cleaned_test_25500.csv\",index_col=0)\n",
        "df_val = pd.read_csv(path_for_opening_data+\"BIGNEWS_cleaned_val_25500.csv\",index_col=0)"
      ],
      "metadata": {
        "id": "TFTmyAWzp07M"
      },
      "execution_count": 8,
      "outputs": []
    },
    {
      "cell_type": "markdown",
      "source": [
        "If you are ready, then set up the model and train it.\n",
        "\n",
        "**Warning** If you use the original data for the training with GPU (cuda), it takes 1 hour for tokenizing data from the train and validation set, and 11 hours for each epoch, with using 19GB of the RAM (in Kaggle). Even if you use dummy files, it takes 1 hour for each epoch."
      ],
      "metadata": {
        "id": "f7BFtOm6p4ke"
      }
    },
    {
      "cell_type": "code",
      "source": [
        "model = LongformerClassifier()\n",
        "train(model, df_train, df_val, LR, EPOCHS)"
      ],
      "metadata": {
        "id": "3j0x2c1GqFKp",
        "colab": {
          "base_uri": "https://localhost:8080/"
        },
        "outputId": "616c1e8c-0714-43da-881e-387b926d0d0a"
      },
      "execution_count": 9,
      "outputs": [
        {
          "output_type": "stream",
          "name": "stderr",
          "text": [
            "Some weights of the model checkpoint at allenai/longformer-base-4096 were not used when initializing LongformerModel: ['lm_head.layer_norm.bias', 'lm_head.dense.bias', 'lm_head.decoder.weight', 'lm_head.dense.weight', 'lm_head.layer_norm.weight', 'lm_head.bias']\n",
            "- This IS expected if you are initializing LongformerModel from the checkpoint of a model trained on another task or with another architecture (e.g. initializing a BertForSequenceClassification model from a BertForPreTraining model).\n",
            "- This IS NOT expected if you are initializing LongformerModel from the checkpoint of a model that you expect to be exactly identical (initializing a BertForSequenceClassification model from a BertForSequenceClassification model).\n",
            "100%|██████████| 1755/1755 [45:36<00:00,  1.56s/it]\n"
          ]
        },
        {
          "output_type": "stream",
          "name": "stdout",
          "text": [
            "Epochs: 1 | Train Loss:  0.115                 | Train Accuracy:  0.549                 | Val Loss:  0.087                 | Val Accuracy:  0.727\n"
          ]
        },
        {
          "output_type": "stream",
          "name": "stderr",
          "text": [
            "100%|██████████| 1755/1755 [45:36<00:00,  1.56s/it]\n"
          ]
        },
        {
          "output_type": "stream",
          "name": "stdout",
          "text": [
            "Epochs: 2 | Train Loss:  0.077                 | Train Accuracy:  0.758                 | Val Loss:  0.073                 | Val Accuracy:  0.770\n"
          ]
        }
      ]
    },
    {
      "cell_type": "markdown",
      "source": [
        "Lastly, you can chcek the test accuracy and confusion matrix using the below code. If you use the original data with 2 epochs, then it has 91% test accuracy with the confusion matrix below.\n",
        "\n",
        "![Screen Shot 2022-07-30 at 2.51.16 PM.png](data:image/png;base64,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)"
      ],
      "metadata": {
        "id": "-0MG9dYlqRFm"
      }
    },
    {
      "cell_type": "code",
      "source": [
        "get_output=[]\n",
        "get_testlabels=[]\n",
        "\n",
        "def evaluate(model, test_data):\n",
        "    test = Dataset(test_data)\n",
        "    test_dataloader = torch.utils.data.DataLoader(test, batch_size=2)\n",
        "    use_cuda = torch.cuda.is_available()\n",
        "    device = torch.device(\"cuda\" if use_cuda else \"cpu\")\n",
        "\n",
        "    if use_cuda:\n",
        "        model = model.cuda()\n",
        "\n",
        "    total_acc_test = 0\n",
        "    with torch.no_grad():\n",
        "        for test_input, test_label in test_dataloader:\n",
        "            get_testlabels.append(test_label)\n",
        "            test_label = test_label.to(device)\n",
        "            mask = test_input['attention_mask'].to(device)\n",
        "            input_id = test_input['input_ids'].squeeze(1).to(device)\n",
        "            output = model(input_id, mask)\n",
        "            acc = (output.argmax(dim=1) == test_label).sum().item()\n",
        "            get_output.append(output.argmax(dim=1))\n",
        "            total_acc_test += acc\n",
        "        print(f'Test Accuracy: {total_acc_test / len(test_data): .3f}')\n",
        "evaluate(model, df_test)\n",
        "\n",
        "model_y = [item.cpu().detach().numpy().tolist() for item in get_output]\n",
        "test_y = [item.cpu().detach().numpy().tolist() for item in get_testlabels]\n",
        "model_y = [x for xs in model_y for x in xs]\n",
        "test_y = [x for xs in test_y for x in xs]\n",
        "\n",
        "target_classes = [0, 1, 2]\n",
        "skplt.metrics.plot_confusion_matrix([target_classes[i] for i in test_y], [target_classes[i] for i in model_y],\n",
        "                                    normalize=True,\n",
        "                                    title=\"Confusion Matrix\",\n",
        "                                    cmap=\"Purples\",\n",
        "                                    hide_zeros=True,\n",
        "                                    figsize=(5,5)\n",
        "                                    );\n",
        "plt.xticks(rotation=90);"
      ],
      "metadata": {
        "id": "p8tZzOC-qkpL",
        "colab": {
          "base_uri": "https://localhost:8080/",
          "height": 327
        },
        "outputId": "b3879d93-be3f-4a46-ee72-31db7b326a8e"
      },
      "execution_count": 10,
      "outputs": [
        {
          "output_type": "stream",
          "name": "stdout",
          "text": [
            "Test Accuracy:  0.754\n"
          ]
        },
        {
          "output_type": "display_data",
          "data": {
            "text/plain": [
              "<Figure size 360x360 with 2 Axes>"
            ],
            "image/png": "[encoded data removed]"
          },
          "metadata": {
            "needs_background": "light"
          }
        }
      ]
    }
  ]
}